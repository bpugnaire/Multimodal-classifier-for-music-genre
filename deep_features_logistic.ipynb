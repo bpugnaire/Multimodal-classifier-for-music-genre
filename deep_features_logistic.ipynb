{
 "cells": [
  {
   "cell_type": "code",
   "execution_count": 1,
   "metadata": {},
   "outputs": [],
   "source": [
    "import numpy as np\n",
    "import pandas as pd\n",
    "\n",
    "from sklearn.preprocessing import LabelEncoder\n",
    "from sklearn.metrics import roc_auc_score\n",
    "\n",
    "from pathlib import Path\n",
    "from sklearn.metrics import confusion_matrix, plot_confusion_matrix, classification_report\n",
    "\n",
    "msdi_path = \"../data/msdi/\""
   ]
  },
  {
   "cell_type": "code",
   "execution_count": 2,
   "metadata": {},
   "outputs": [],
   "source": [
    "def load_deep_audio_features(entry, msdi_path, X_train,X_val,X_test ):\n",
    "    data_set = entry['set']\n",
    "    idx = entry['deep_features']\n",
    "    if data_set == 'train':\n",
    "        return X_train[idx, :].tolist()\n",
    "    if data_set == 'val':\n",
    "        return X_val[idx,:].tolist()\n",
    "    else:\n",
    "        return X_test[idx,:].tolist()"
   ]
  },
  {
   "cell_type": "code",
   "execution_count": 3,
   "metadata": {},
   "outputs": [],
   "source": [
    "df_entry = pd.read_csv(msdi_path+\"msdi_mapping.csv\")\n",
    "df_entry = df_entry.drop([\"Unnamed: 0\"], axis = 1)"
   ]
  },
  {
   "cell_type": "code",
   "execution_count": 4,
   "metadata": {},
   "outputs": [
    {
     "data": {
      "text/plain": [
       "array(['TRABKJU128F422A7FE', 'Metal', 0, 'train', 'ARBD4QW1187FB42153',\n",
       "       'http://artwork-cdn.7static.com/static/img/sleeveart/00/008/487/0000848744_200.jpg',\n",
       "       'img/0000848744_200.jpg', 'mfcc/mfcc_A.npz', 0], dtype=object)"
      ]
     },
     "execution_count": 4,
     "metadata": {},
     "output_type": "execute_result"
    }
   ],
   "source": [
    "df_entry.iloc[0].values"
   ]
  },
  {
   "cell_type": "code",
   "execution_count": 5,
   "metadata": {},
   "outputs": [],
   "source": [
    "X_train = np.load(msdi_path + \"deep_features/X_train_audio_MSD-I.npy\")\n",
    "X_val = np.load(msdi_path + \"deep_features/X_val_audio_MSD-I.npy\")\n",
    "X_test = np.load(msdi_path + \"deep_features/X_test_audio_MSD-I.npy\")"
   ]
  },
  {
   "cell_type": "code",
   "execution_count": 6,
   "metadata": {},
   "outputs": [],
   "source": [
    "train_idx = df_entry.index[df_entry['set'] == \"train\"].tolist()\n",
    "test_idx = df_entry.index[df_entry['set'] == \"test\"].tolist()\n",
    "val_idx = df_entry.index[df_entry['set'] == \"val\"].tolist()"
   ]
  },
  {
   "cell_type": "code",
   "execution_count": 7,
   "metadata": {},
   "outputs": [],
   "source": [
    "X = df_entry.apply(lambda entry :\n",
    "                            load_deep_audio_features(entry, msdi_path, X_train, X_val, X_test), \n",
    "                            raw =True,\n",
    "                            result_type='expand',\n",
    "                            axis=1 )"
   ]
  },
  {
   "cell_type": "code",
   "execution_count": 9,
   "metadata": {},
   "outputs": [
    {
     "data": {
      "text/plain": [
       "(30712, 2048)"
      ]
     },
     "execution_count": 9,
     "metadata": {},
     "output_type": "execute_result"
    }
   ],
   "source": [
    "X.shape"
   ]
  },
  {
   "cell_type": "code",
   "execution_count": 8,
   "metadata": {},
   "outputs": [
    {
     "name": "stdout",
     "output_type": "stream",
     "text": [
      "Classes :  ['Blues' 'Country' 'Electronic' 'Folk' 'Jazz' 'Latin' 'Metal' 'New Age'\n",
      " 'Pop' 'Punk' 'Rap' 'Reggae' 'RnB' 'Rock' 'World'] \n",
      "\n",
      "(30712,)\n"
     ]
    }
   ],
   "source": [
    "label = df_entry['genre'].array\n",
    "# print(label.shape)\n",
    "\n",
    "le = LabelEncoder()\n",
    "le.fit(label)\n",
    "class_names = le.classes_\n",
    "print(\"Classes : \", le.classes_, \"\\n\")\n",
    "y_classes = le.transform(label)\n",
    "\n",
    "print( y_classes.shape)\n",
    "#y = to_categorical(y_classes)"
   ]
  },
  {
   "cell_type": "code",
   "execution_count": 10,
   "metadata": {
    "scrolled": true
   },
   "outputs": [],
   "source": [
    "X = X.values"
   ]
  },
  {
   "cell_type": "code",
   "execution_count": 11,
   "metadata": {},
   "outputs": [],
   "source": [
    "X_train, y_train = X[train_idx], y_classes[train_idx]\n",
    "X_test, y_test = X[test_idx], y_classes[test_idx]\n",
    "X_val, y_val = X[val_idx], y_classes[val_idx]\n"
   ]
  },
  {
   "cell_type": "code",
   "execution_count": null,
   "metadata": {},
   "outputs": [],
   "source": []
  },
  {
   "cell_type": "code",
   "execution_count": 97,
   "metadata": {},
   "outputs": [
    {
     "name": "stderr",
     "output_type": "stream",
     "text": [
      "[Parallel(n_jobs=1)]: Using backend SequentialBackend with 1 concurrent workers.\n"
     ]
    },
    {
     "name": "stdout",
     "output_type": "stream",
     "text": [
      "0.4902129490212949\n"
     ]
    },
    {
     "name": "stderr",
     "output_type": "stream",
     "text": [
      "[Parallel(n_jobs=1)]: Done   1 out of   1 | elapsed:  1.7min remaining:    0.0s\n",
      "[Parallel(n_jobs=1)]: Done   1 out of   1 | elapsed:  1.7min finished\n"
     ]
    }
   ],
   "source": [
    "from sklearn.linear_model import LogisticRegression\n",
    "\n",
    "clf = LogisticRegression(random_state=42, max_iter=1000, verbose = 2, warm_start=True)\n",
    "\n",
    "clf.fit(X_train, y_train)\n",
    "y_pred = clf.predict(X_test)\n",
    "print(clf.score(X_test,y_test))"
   ]
  },
  {
   "cell_type": "code",
   "execution_count": 98,
   "metadata": {},
   "outputs": [
    {
     "name": "stdout",
     "output_type": "stream",
     "text": [
      "              precision    recall  f1-score   support\n",
      "\n",
      "       Blues       0.31      0.09      0.14       190\n",
      "     Country       0.35      0.39      0.37       194\n",
      "  Electronic       0.57      0.69      0.63       708\n",
      "        Folk       0.13      0.12      0.13       136\n",
      "        Jazz       0.48      0.43      0.45       461\n",
      "       Latin       0.11      0.04      0.06        81\n",
      "       Metal       0.68      0.67      0.67       374\n",
      "     New Age       0.00      0.00      0.00        38\n",
      "         Pop       0.35      0.41      0.38       463\n",
      "        Punk       0.22      0.07      0.11        95\n",
      "         Rap       0.67      0.74      0.71       379\n",
      "      Reggae       0.53      0.46      0.49       263\n",
      "         RnB       0.49      0.31      0.38       395\n",
      "        Rock       0.46      0.62      0.53       827\n",
      "       World       0.05      0.02      0.03        45\n",
      "\n",
      "    accuracy                           0.49      4649\n",
      "   macro avg       0.36      0.34      0.34      4649\n",
      "weighted avg       0.47      0.49      0.47      4649\n",
      "\n"
     ]
    }
   ],
   "source": [
    "print(classification_report(y_test, y_pred, target_names=class_names))"
   ]
  },
  {
   "cell_type": "code",
   "execution_count": 99,
   "metadata": {},
   "outputs": [
    {
     "name": "stderr",
     "output_type": "stream",
     "text": [
      "[Parallel(n_jobs=1)]: Using backend SequentialBackend with 1 concurrent workers.\n",
      "[Parallel(n_jobs=1)]: Done   1 out of   1 | elapsed:   12.3s remaining:    0.0s\n",
      "[Parallel(n_jobs=1)]: Done   1 out of   1 | elapsed:   12.3s finished\n"
     ]
    },
    {
     "name": "stdout",
     "output_type": "stream",
     "text": [
      "0.49446470435009116\n"
     ]
    }
   ],
   "source": [
    "clf.fit(X_val, y_val)\n",
    "y_pred = clf.predict(X)\n",
    "print(clf.score(X,y_classes))"
   ]
  },
  {
   "cell_type": "code",
   "execution_count": 100,
   "metadata": {},
   "outputs": [
    {
     "name": "stdout",
     "output_type": "stream",
     "text": [
      "              precision    recall  f1-score   support\n",
      "\n",
      "       Blues       0.24      0.10      0.14       825\n",
      "     Country       0.46      0.37      0.41      1778\n",
      "  Electronic       0.56      0.67      0.61      4801\n",
      "        Folk       0.24      0.15      0.19      1144\n",
      "        Jazz       0.47      0.48      0.48      2671\n",
      "       Latin       0.28      0.09      0.14       550\n",
      "       Metal       0.62      0.69      0.65      2617\n",
      "     New Age       0.22      0.13      0.16       265\n",
      "         Pop       0.37      0.48      0.42      3429\n",
      "        Punk       0.28      0.20      0.23       713\n",
      "         Rap       0.76      0.73      0.75      2674\n",
      "      Reggae       0.58      0.50      0.53      1699\n",
      "         RnB       0.42      0.27      0.33      1836\n",
      "        Rock       0.46      0.53      0.49      5213\n",
      "       World       0.15      0.09      0.12       497\n",
      "\n",
      "    accuracy                           0.49     30712\n",
      "   macro avg       0.41      0.37      0.38     30712\n",
      "weighted avg       0.48      0.49      0.48     30712\n",
      "\n"
     ]
    }
   ],
   "source": [
    "print(classification_report(y_classes, y_pred, target_names=class_names))"
   ]
  },
  {
   "cell_type": "code",
   "execution_count": 101,
   "metadata": {},
   "outputs": [
    {
     "name": "stdout",
     "output_type": "stream",
     "text": [
      "(30712, 15)\n"
     ]
    }
   ],
   "source": [
    "Y_proba = clf.predict_proba(X)\n",
    "print(Y_proba.shape)"
   ]
  },
  {
   "cell_type": "code",
   "execution_count": 112,
   "metadata": {},
   "outputs": [],
   "source": [
    "df_proba = pd.DataFrame(data = Y_proba, columns = class_names)"
   ]
  },
  {
   "cell_type": "code",
   "execution_count": 113,
   "metadata": {},
   "outputs": [],
   "source": [
    "df_final = df_entry.join(df_proba)"
   ]
  },
  {
   "cell_type": "code",
   "execution_count": 115,
   "metadata": {},
   "outputs": [],
   "source": [
    "Y_pred = clf.predict(X)\n"
   ]
  },
  {
   "cell_type": "code",
   "execution_count": 116,
   "metadata": {},
   "outputs": [],
   "source": [
    "Y_pred = le.inverse_transform(Y_pred)\n",
    "df_final[\"deep_audio_features_genre\"] = Y_pred"
   ]
  },
  {
   "cell_type": "code",
   "execution_count": 117,
   "metadata": {},
   "outputs": [],
   "source": [
    "df_final.drop(['album_index',\n",
    "       'msd_artist_id', 'image_url', 'img', 'mfcc', 'deep_features'], axis=1, inplace=True)"
   ]
  },
  {
   "cell_type": "code",
   "execution_count": 119,
   "metadata": {},
   "outputs": [],
   "source": [
    "export_csv = df_final.to_csv (r'../data/deep_audio_features_results.csv', index = None, header=True)"
   ]
  },
  {
   "cell_type": "code",
   "execution_count": null,
   "metadata": {},
   "outputs": [],
   "source": []
  }
 ],
 "metadata": {
  "kernelspec": {
   "display_name": "Python 3",
   "language": "python",
   "name": "python3"
  },
  "language_info": {
   "codemirror_mode": {
    "name": "ipython",
    "version": 3
   },
   "file_extension": ".py",
   "mimetype": "text/x-python",
   "name": "python",
   "nbconvert_exporter": "python",
   "pygments_lexer": "ipython3",
   "version": "3.7.3"
  }
 },
 "nbformat": 4,
 "nbformat_minor": 4
}
