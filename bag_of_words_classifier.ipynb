{
 "cells": [
  {
   "cell_type": "markdown",
   "metadata": {},
   "source": [
    "# Bag of words Classifier"
   ]
  },
  {
   "cell_type": "markdown",
   "metadata": {},
   "source": [
    "## Imports"
   ]
  },
  {
   "cell_type": "code",
   "execution_count": 49,
   "metadata": {},
   "outputs": [],
   "source": [
    "import numpy as np\n",
    "import pandas as pd\n",
    "import keras\n",
    "import os\n",
    "import matplotlib.pyplot as plt\n",
    "\n",
    "from sklearn.preprocessing import LabelEncoder\n",
    "from sklearn.feature_extraction import DictVectorizer\n",
    "\n",
    "import keras\n",
    "from keras import Sequential\n",
    "from keras.layers import Dense, Conv1D, BatchNormalization, MaxPooling1D, Dropout, Flatten\n",
    "from keras.utils import to_categorical\n",
    "\n",
    "from sklearn.ensemble import RandomForestClassifier\n",
    "from sklearn.model_selection import RandomizedSearchCV\n",
    "\n",
    "\n",
    "from sklearn.metrics import confusion_matrix, plot_confusion_matrix, classification_report, roc_auc_score\n"
   ]
  },
  {
   "cell_type": "code",
   "execution_count": 36,
   "metadata": {},
   "outputs": [],
   "source": [
    "df_bow = pd.read_csv('../data/msx_lyrics_genre.txt',  sep=\"|\", names=['A'])"
   ]
  },
  {
   "cell_type": "code",
   "execution_count": 37,
   "metadata": {},
   "outputs": [
    {
     "data": {
      "text/html": [
       "<div>\n",
       "<style scoped>\n",
       "    .dataframe tbody tr th:only-of-type {\n",
       "        vertical-align: middle;\n",
       "    }\n",
       "\n",
       "    .dataframe tbody tr th {\n",
       "        vertical-align: top;\n",
       "    }\n",
       "\n",
       "    .dataframe thead th {\n",
       "        text-align: right;\n",
       "    }\n",
       "</style>\n",
       "<table border=\"1\" class=\"dataframe\">\n",
       "  <thead>\n",
       "    <tr style=\"text-align: right;\">\n",
       "      <th></th>\n",
       "      <th>A</th>\n",
       "    </tr>\n",
       "  </thead>\n",
       "  <tbody>\n",
       "    <tr>\n",
       "      <th>0</th>\n",
       "      <td>TRAAAHZ128E0799171 Rap 1:39 2:30 3:10 4:10 5:2...</td>\n",
       "    </tr>\n",
       "    <tr>\n",
       "      <th>1</th>\n",
       "      <td>TRAACER128F4290F96 Metal 1:4 2:11 3:19 4:4 5:4...</td>\n",
       "    </tr>\n",
       "    <tr>\n",
       "      <th>2</th>\n",
       "      <td>TRAADYB128F92D7E73 Jazz 1:23 2:18 3:31 5:4 7:3...</td>\n",
       "    </tr>\n",
       "    <tr>\n",
       "      <th>3</th>\n",
       "      <td>TRAAEJV128F423CF04 Pop 1:11 3:19 6:3 7:1 10:1 ...</td>\n",
       "    </tr>\n",
       "    <tr>\n",
       "      <th>4</th>\n",
       "      <td>TRAAERZ128F1496921 Reggae 1:13 2:12 3:9 4:3 5:...</td>\n",
       "    </tr>\n",
       "  </tbody>\n",
       "</table>\n",
       "</div>"
      ],
      "text/plain": [
       "                                                   A\n",
       "0  TRAAAHZ128E0799171 Rap 1:39 2:30 3:10 4:10 5:2...\n",
       "1  TRAACER128F4290F96 Metal 1:4 2:11 3:19 4:4 5:4...\n",
       "2  TRAADYB128F92D7E73 Jazz 1:23 2:18 3:31 5:4 7:3...\n",
       "3  TRAAEJV128F423CF04 Pop 1:11 3:19 6:3 7:1 10:1 ...\n",
       "4  TRAAERZ128F1496921 Reggae 1:13 2:12 3:9 4:3 5:..."
      ]
     },
     "execution_count": 37,
     "metadata": {},
     "output_type": "execute_result"
    }
   ],
   "source": [
    "df_bow.head()"
   ]
  },
  {
   "cell_type": "markdown",
   "metadata": {},
   "source": [
    "## Preprocessing"
   ]
  },
  {
   "cell_type": "code",
   "execution_count": 38,
   "metadata": {},
   "outputs": [
    {
     "data": {
      "text/html": [
       "<div>\n",
       "<style scoped>\n",
       "    .dataframe tbody tr th:only-of-type {\n",
       "        vertical-align: middle;\n",
       "    }\n",
       "\n",
       "    .dataframe tbody tr th {\n",
       "        vertical-align: top;\n",
       "    }\n",
       "\n",
       "    .dataframe thead th {\n",
       "        text-align: right;\n",
       "    }\n",
       "</style>\n",
       "<table border=\"1\" class=\"dataframe\">\n",
       "  <thead>\n",
       "    <tr style=\"text-align: right;\">\n",
       "      <th></th>\n",
       "      <th>msd_track_id</th>\n",
       "      <th>genre</th>\n",
       "      <th>bow</th>\n",
       "    </tr>\n",
       "  </thead>\n",
       "  <tbody>\n",
       "    <tr>\n",
       "      <th>0</th>\n",
       "      <td>TRAAAHZ128E0799171</td>\n",
       "      <td>Rap</td>\n",
       "      <td>{'1': 39, '2': 30, '3': 10, '4': 10, '5': 28, ...</td>\n",
       "    </tr>\n",
       "    <tr>\n",
       "      <th>1</th>\n",
       "      <td>TRAACER128F4290F96</td>\n",
       "      <td>Metal</td>\n",
       "      <td>{'1': 4, '2': 11, '3': 19, '4': 4, '5': 4, '6'...</td>\n",
       "    </tr>\n",
       "    <tr>\n",
       "      <th>2</th>\n",
       "      <td>TRAADYB128F92D7E73</td>\n",
       "      <td>Jazz</td>\n",
       "      <td>{'1': 23, '2': 18, '3': 31, '5': 4, '7': 3, '8...</td>\n",
       "    </tr>\n",
       "    <tr>\n",
       "      <th>3</th>\n",
       "      <td>TRAAEJV128F423CF04</td>\n",
       "      <td>Pop</td>\n",
       "      <td>{'1': 11, '3': 19, '6': 3, '7': 1, '10': 1, '1...</td>\n",
       "    </tr>\n",
       "    <tr>\n",
       "      <th>4</th>\n",
       "      <td>TRAAERZ128F1496921</td>\n",
       "      <td>Reggae</td>\n",
       "      <td>{'1': 13, '2': 12, '3': 9, '4': 3, '5': 13, '6...</td>\n",
       "    </tr>\n",
       "  </tbody>\n",
       "</table>\n",
       "</div>"
      ],
      "text/plain": [
       "         msd_track_id   genre  \\\n",
       "0  TRAAAHZ128E0799171     Rap   \n",
       "1  TRAACER128F4290F96   Metal   \n",
       "2  TRAADYB128F92D7E73    Jazz   \n",
       "3  TRAAEJV128F423CF04     Pop   \n",
       "4  TRAAERZ128F1496921  Reggae   \n",
       "\n",
       "                                                 bow  \n",
       "0  {'1': 39, '2': 30, '3': 10, '4': 10, '5': 28, ...  \n",
       "1  {'1': 4, '2': 11, '3': 19, '4': 4, '5': 4, '6'...  \n",
       "2  {'1': 23, '2': 18, '3': 31, '5': 4, '7': 3, '8...  \n",
       "3  {'1': 11, '3': 19, '6': 3, '7': 1, '10': 1, '1...  \n",
       "4  {'1': 13, '2': 12, '3': 9, '4': 3, '5': 13, '6...  "
      ]
     },
     "execution_count": 38,
     "metadata": {},
     "output_type": "execute_result"
    }
   ],
   "source": [
    "cols = [\"msd_track_id\", \"genre\", \"bow\"]\n",
    "df_bow[cols] = df_bow.A.str.split(' ', n=2, expand=True)\n",
    "df_bow.drop('A', axis=1, inplace=True)\n",
    "df_bow['bow'] = df_bow['bow'].apply(lambda bow : dict([el.split(':') for el in bow.split(' ') if el!=\"\"]))\n",
    "df_bow['bow'] = df_bow['bow'].apply(lambda bow : dict([a, int(x)] for a, x in bow.items()))\n",
    "df_bow.head()"
   ]
  },
  {
   "cell_type": "code",
   "execution_count": 39,
   "metadata": {},
   "outputs": [
    {
     "data": {
      "text/html": [
       "<div>\n",
       "<style scoped>\n",
       "    .dataframe tbody tr th:only-of-type {\n",
       "        vertical-align: middle;\n",
       "    }\n",
       "\n",
       "    .dataframe tbody tr th {\n",
       "        vertical-align: top;\n",
       "    }\n",
       "\n",
       "    .dataframe thead th {\n",
       "        text-align: right;\n",
       "    }\n",
       "</style>\n",
       "<table border=\"1\" class=\"dataframe\">\n",
       "  <thead>\n",
       "    <tr style=\"text-align: right;\">\n",
       "      <th></th>\n",
       "      <th>msd_track_id</th>\n",
       "      <th>set</th>\n",
       "    </tr>\n",
       "  </thead>\n",
       "  <tbody>\n",
       "    <tr>\n",
       "      <th>0</th>\n",
       "      <td>TRABKJU128F422A7FE</td>\n",
       "      <td>train</td>\n",
       "    </tr>\n",
       "    <tr>\n",
       "      <th>1</th>\n",
       "      <td>TRBLDQQ128F92E58B4</td>\n",
       "      <td>train</td>\n",
       "    </tr>\n",
       "    <tr>\n",
       "      <th>2</th>\n",
       "      <td>TRDMMDE128F14A9052</td>\n",
       "      <td>train</td>\n",
       "    </tr>\n",
       "    <tr>\n",
       "      <th>3</th>\n",
       "      <td>TRJOPZB128F4250E02</td>\n",
       "      <td>train</td>\n",
       "    </tr>\n",
       "    <tr>\n",
       "      <th>4</th>\n",
       "      <td>TRJKBVL128F935567B</td>\n",
       "      <td>train</td>\n",
       "    </tr>\n",
       "  </tbody>\n",
       "</table>\n",
       "</div>"
      ],
      "text/plain": [
       "         msd_track_id    set\n",
       "0  TRABKJU128F422A7FE  train\n",
       "1  TRBLDQQ128F92E58B4  train\n",
       "2  TRDMMDE128F14A9052  train\n",
       "3  TRJOPZB128F4250E02  train\n",
       "4  TRJKBVL128F935567B  train"
      ]
     },
     "execution_count": 39,
     "metadata": {},
     "output_type": "execute_result"
    }
   ],
   "source": [
    "df_mapping = pd.read_csv(\"../data/msdi/msdi_mapping.csv\")\n",
    "df_mapping.drop(['Unnamed: 0', 'genre', 'album_index',\n",
    "       'msd_artist_id', 'image_url', 'img', 'mfcc', 'deep_features'], axis=1, inplace=True)\n",
    "df_mapping.head()"
   ]
  },
  {
   "cell_type": "code",
   "execution_count": 40,
   "metadata": {},
   "outputs": [
    {
     "data": {
      "text/html": [
       "<div>\n",
       "<style scoped>\n",
       "    .dataframe tbody tr th:only-of-type {\n",
       "        vertical-align: middle;\n",
       "    }\n",
       "\n",
       "    .dataframe tbody tr th {\n",
       "        vertical-align: top;\n",
       "    }\n",
       "\n",
       "    .dataframe thead th {\n",
       "        text-align: right;\n",
       "    }\n",
       "</style>\n",
       "<table border=\"1\" class=\"dataframe\">\n",
       "  <thead>\n",
       "    <tr style=\"text-align: right;\">\n",
       "      <th></th>\n",
       "      <th>msd_track_id</th>\n",
       "      <th>genre</th>\n",
       "      <th>bow</th>\n",
       "      <th>set</th>\n",
       "    </tr>\n",
       "  </thead>\n",
       "  <tbody>\n",
       "    <tr>\n",
       "      <th>0</th>\n",
       "      <td>TRAAAHZ128E0799171</td>\n",
       "      <td>Rap</td>\n",
       "      <td>{'1': 39, '2': 30, '3': 10, '4': 10, '5': 28, ...</td>\n",
       "      <td>train</td>\n",
       "    </tr>\n",
       "    <tr>\n",
       "      <th>1</th>\n",
       "      <td>TRAACER128F4290F96</td>\n",
       "      <td>Metal</td>\n",
       "      <td>{'1': 4, '2': 11, '3': 19, '4': 4, '5': 4, '6'...</td>\n",
       "      <td>train</td>\n",
       "    </tr>\n",
       "    <tr>\n",
       "      <th>2</th>\n",
       "      <td>TRAADYB128F92D7E73</td>\n",
       "      <td>Jazz</td>\n",
       "      <td>{'1': 23, '2': 18, '3': 31, '5': 4, '7': 3, '8...</td>\n",
       "      <td>train</td>\n",
       "    </tr>\n",
       "    <tr>\n",
       "      <th>3</th>\n",
       "      <td>TRAAEJV128F423CF04</td>\n",
       "      <td>Pop</td>\n",
       "      <td>{'1': 11, '3': 19, '6': 3, '7': 1, '10': 1, '1...</td>\n",
       "      <td>val</td>\n",
       "    </tr>\n",
       "    <tr>\n",
       "      <th>4</th>\n",
       "      <td>TRAAERZ128F1496921</td>\n",
       "      <td>Reggae</td>\n",
       "      <td>{'1': 13, '2': 12, '3': 9, '4': 3, '5': 13, '6...</td>\n",
       "      <td>val</td>\n",
       "    </tr>\n",
       "  </tbody>\n",
       "</table>\n",
       "</div>"
      ],
      "text/plain": [
       "         msd_track_id   genre  \\\n",
       "0  TRAAAHZ128E0799171     Rap   \n",
       "1  TRAACER128F4290F96   Metal   \n",
       "2  TRAADYB128F92D7E73    Jazz   \n",
       "3  TRAAEJV128F423CF04     Pop   \n",
       "4  TRAAERZ128F1496921  Reggae   \n",
       "\n",
       "                                                 bow    set  \n",
       "0  {'1': 39, '2': 30, '3': 10, '4': 10, '5': 28, ...  train  \n",
       "1  {'1': 4, '2': 11, '3': 19, '4': 4, '5': 4, '6'...  train  \n",
       "2  {'1': 23, '2': 18, '3': 31, '5': 4, '7': 3, '8...  train  \n",
       "3  {'1': 11, '3': 19, '6': 3, '7': 1, '10': 1, '1...    val  \n",
       "4  {'1': 13, '2': 12, '3': 9, '4': 3, '5': 13, '6...    val  "
      ]
     },
     "execution_count": 40,
     "metadata": {},
     "output_type": "execute_result"
    }
   ],
   "source": [
    "df_bow = pd.merge(df_bow, df_mapping, on=\"msd_track_id\")\n",
    "df_bow.head()"
   ]
  },
  {
   "cell_type": "code",
   "execution_count": 41,
   "metadata": {},
   "outputs": [
    {
     "name": "stdout",
     "output_type": "stream",
     "text": [
      "train    10340\n",
      "val       2298\n",
      "test      2112\n",
      "Name: set, dtype: int64\n"
     ]
    }
   ],
   "source": [
    "print(df_bow['set'].value_counts())"
   ]
  },
  {
   "cell_type": "code",
   "execution_count": 42,
   "metadata": {},
   "outputs": [
    {
     "name": "stdout",
     "output_type": "stream",
     "text": [
      "Rock          3228\n",
      "Pop           2420\n",
      "Metal         2009\n",
      "Rap           1347\n",
      "Country       1089\n",
      "Electronic     946\n",
      "RnB            909\n",
      "Reggae         595\n",
      "Folk           575\n",
      "Punk           546\n",
      "Jazz           451\n",
      "Latin          286\n",
      "Blues          186\n",
      "World           97\n",
      "New_Age         66\n",
      "Name: genre, dtype: int64\n"
     ]
    }
   ],
   "source": [
    "print(df_bow['genre'].value_counts())"
   ]
  },
  {
   "cell_type": "code",
   "execution_count": 43,
   "metadata": {},
   "outputs": [
    {
     "name": "stdout",
     "output_type": "stream",
     "text": [
      "(14750, 5000)\n"
     ]
    }
   ],
   "source": [
    "v = DictVectorizer(sparse=False)\n",
    "X = v.fit_transform(df_bow[\"bow\"])\n",
    "\n",
    "print(X.shape)"
   ]
  },
  {
   "cell_type": "code",
   "execution_count": 44,
   "metadata": {},
   "outputs": [],
   "source": [
    "train_idx = df_bow.index[df_bow['set'] == \"train\"].tolist()\n",
    "test_idx = df_bow.index[df_bow['set'] == \"test\"].tolist()\n",
    "val_idx = df_bow.index[df_bow['set'] == \"val\"].tolist()\n"
   ]
  },
  {
   "cell_type": "code",
   "execution_count": 45,
   "metadata": {},
   "outputs": [
    {
     "name": "stdout",
     "output_type": "stream",
     "text": [
      "Classes :  ['Blues' 'Country' 'Electronic' 'Folk' 'Jazz' 'Latin' 'Metal' 'New_Age'\n",
      " 'Pop' 'Punk' 'Rap' 'Reggae' 'RnB' 'Rock' 'World'] \n",
      "\n",
      "(14750,)\n"
     ]
    }
   ],
   "source": [
    "label = df_bow['genre'].array\n",
    "# print(label.shape)\n",
    "\n",
    "le = LabelEncoder()\n",
    "le.fit(label)\n",
    "class_names = le.classes_\n",
    "print(\"Classes : \", le.classes_, \"\\n\")\n",
    "y_classes = le.transform(label)\n",
    "\n",
    "print(y_classes.shape)\n",
    "#y = to_categorical(y_classes)"
   ]
  },
  {
   "cell_type": "code",
   "execution_count": 175,
   "metadata": {},
   "outputs": [
    {
     "data": {
      "text/plain": [
       "<PandasArray>\n",
       "[    'Rap',   'Metal',    'Jazz',     'Pop',  'Reggae',    'Rock', 'Country',\n",
       "  'Reggae',    'Rock',    'Rock',\n",
       " ...\n",
       " 'Country',   'Metal',    'Rock',    'Rock',     'Pop',    'Rock',   'Metal',\n",
       "     'RnB',   'Metal',     'Rap']\n",
       "Length: 14750, dtype: object"
      ]
     },
     "execution_count": 175,
     "metadata": {},
     "output_type": "execute_result"
    }
   ],
   "source": []
  },
  {
   "cell_type": "code",
   "execution_count": 15,
   "metadata": {},
   "outputs": [],
   "source": [
    "X_train, y_train = X[train_idx], y_classes[train_idx]\n",
    "X_test, y_test = X[test_idx], y_classes[test_idx]\n",
    "X_val, y_val = X[val_idx], y_classes[val_idx]"
   ]
  },
  {
   "cell_type": "markdown",
   "metadata": {},
   "source": [
    "## Random Forest Classifier"
   ]
  },
  {
   "cell_type": "code",
   "execution_count": 20,
   "metadata": {},
   "outputs": [],
   "source": [
    "clf = RandomForestClassifier(random_state=42)\n",
    "clf.fit(X_train,y_train)\n",
    "y_pred = clf.predict(X_test)"
   ]
  },
  {
   "cell_type": "code",
   "execution_count": 21,
   "metadata": {},
   "outputs": [
    {
     "name": "stdout",
     "output_type": "stream",
     "text": [
      "0.4185606060606061\n"
     ]
    }
   ],
   "source": [
    "print(clf.score(X_test,y_test))"
   ]
  },
  {
   "cell_type": "code",
   "execution_count": 22,
   "metadata": {},
   "outputs": [
    {
     "name": "stdout",
     "output_type": "stream",
     "text": [
      "              precision    recall  f1-score   support\n",
      "\n",
      "       Blues       1.00      1.00      1.00       119\n",
      "     Country       1.00      1.00      1.00       842\n",
      "  Electronic       1.00      1.00      1.00       654\n",
      "        Folk       1.00      1.00      1.00       425\n",
      "        Jazz       1.00      1.00      1.00       260\n",
      "       Latin       1.00      1.00      1.00       195\n",
      "       Metal       1.00      1.00      1.00      1328\n",
      "     New_Age       1.00      1.00      1.00        35\n",
      "         Pop       1.00      1.00      1.00      1684\n",
      "        Punk       1.00      1.00      1.00       370\n",
      "         Rap       1.00      1.00      1.00       983\n",
      "      Reggae       1.00      1.00      1.00       451\n",
      "         RnB       1.00      1.00      1.00       617\n",
      "        Rock       1.00      1.00      1.00      2320\n",
      "       World       1.00      1.00      1.00        57\n",
      "\n",
      "    accuracy                           1.00     10340\n",
      "   macro avg       1.00      1.00      1.00     10340\n",
      "weighted avg       1.00      1.00      1.00     10340\n",
      "\n"
     ]
    }
   ],
   "source": [
    "print(classification_report(y_test, y_pred, target_names=class_names))"
   ]
  },
  {
   "cell_type": "code",
   "execution_count": 16,
   "metadata": {},
   "outputs": [
    {
     "data": {
      "image/png": "[encoded data removed]",
      "text/plain": [
       "<Figure size 576x432 with 2 Axes>"
      ]
     },
     "metadata": {
      "needs_background": "light"
     },
     "output_type": "display_data"
    }
   ],
   "source": [
    "cm = confusion_matrix(y_test, y_pred)\n",
    "\n",
    "### Confusion matrix\n",
    "cmap = plt.get_cmap('Blues')\n",
    "\n",
    "plt.figure(figsize=(8, 6))\n",
    "plt.imshow(cm, interpolation='nearest', cmap=cmap)\n",
    "plt.title(\"Confusion Matrix\")\n",
    "plt.colorbar()\n",
    "\n",
    "tick_marks = np.arange(len(class_names))\n",
    "plt.xticks(tick_marks, class_names, rotation=45)\n",
    "plt.yticks(tick_marks, class_names)\n",
    "\n",
    "plt.show()"
   ]
  },
  {
   "cell_type": "markdown",
   "metadata": {},
   "source": [
    "## Hyperparameters tuning"
   ]
  },
  {
   "cell_type": "code",
   "execution_count": 26,
   "metadata": {},
   "outputs": [],
   "source": [
    "# Number of trees in random forest\n",
    "n_estimators = [int(x) for x in np.linspace(start = 200, stop = 2000, num = 10)]\n",
    "# Number of features to consider at every split\n",
    "max_features = ['auto', 'sqrt']\n",
    "# Maximum number of levels in tree\n",
    "max_depth = [int(x) for x in np.linspace(10, 110, num = 6)]\n",
    "#max_depth.append(None)\n",
    "# Minimum number of samples required to split a node\n",
    "min_samples_split = [2, 5, 5]\n",
    "# Minimum number of samples required at each leaf node\n",
    "min_samples_leaf = [1, 2, 4]\n",
    "# Method of selecting samples for training each tree\n",
    "bootstrap = [True, False]\n",
    "# Create the random grid\n",
    "random_grid = {'n_estimators': n_estimators,\n",
    "               'max_features': max_features,\n",
    "               'max_depth': max_depth,\n",
    "               'min_samples_split': min_samples_split,\n",
    "               'min_samples_leaf': min_samples_leaf,\n",
    "               'bootstrap': bootstrap}"
   ]
  },
  {
   "cell_type": "code",
   "execution_count": null,
   "metadata": {},
   "outputs": [
    {
     "name": "stdout",
     "output_type": "stream",
     "text": [
      "Fitting 5 folds for each of 20 candidates, totalling 100 fits\n"
     ]
    },
    {
     "name": "stderr",
     "output_type": "stream",
     "text": [
      "[Parallel(n_jobs=-1)]: Using backend LokyBackend with 4 concurrent workers.\n",
      "[Parallel(n_jobs=-1)]: Done  10 tasks      | elapsed:  2.6min\n",
      "/Users/Bob/anaconda3/lib/python3.7/site-packages/joblib/externals/loky/process_executor.py:706: UserWarning: A worker stopped while some jobs were given to the executor. This can be caused by a too short worker timeout or by a memory leak.\n",
      "  \"timeout or by a memory leak.\", UserWarning\n"
     ]
    }
   ],
   "source": [
    "clf2 = RandomForestClassifier(random_state=42)\n",
    "rf_random = RandomizedSearchCV(estimator = clf2, param_distributions = random_grid, n_iter = 20, cv = 5, verbose=5, random_state=42, n_jobs = -1)\n",
    "# Fit the random search model\n",
    "rf_random.fit(X_val, y_val)"
   ]
  },
  {
   "cell_type": "code",
   "execution_count": null,
   "metadata": {},
   "outputs": [],
   "source": [
    "y_pred = rf_random.predict(X_test)\n",
    "print(roc_auc_score((y_test, y_pred)))\n",
    "print(classification_report(y_test, y_pred, target_names=class_names))"
   ]
  },
  {
   "cell_type": "code",
   "execution_count": null,
   "metadata": {},
   "outputs": [],
   "source": [
    "print(rf_random.score(X_test,y_test))"
   ]
  },
  {
   "cell_type": "code",
   "execution_count": null,
   "metadata": {},
   "outputs": [],
   "source": [
    "cm = confusion_matrix(y_test, y_pred)\n",
    "\n",
    "### Confusion matrix\n",
    "cmap = plt.get_cmap('Blues')\n",
    "\n",
    "plt.figure(figsize=(8, 6))\n",
    "plt.imshow(cm, interpolation='nearest', cmap=cmap)\n",
    "plt.title(\"Confusion Matrix\")\n",
    "plt.colorbar()\n",
    "\n",
    "tick_marks = np.arange(len(class_names))\n",
    "plt.xticks(tick_marks, class_names, rotation=45)\n",
    "plt.yticks(tick_marks, class_names)\n",
    "\n",
    "plt.show()"
   ]
  },
  {
   "cell_type": "code",
   "execution_count": null,
   "metadata": {},
   "outputs": [],
   "source": [
    "Y_proba = clf.predict_proba(X)\n",
    "print(Y_proba.shape)"
   ]
  },
  {
   "cell_type": "code",
   "execution_count": null,
   "metadata": {},
   "outputs": [],
   "source": [
    "df_proba = pd.DataFrame(data = Y_proba, columns = class_names)"
   ]
  },
  {
   "cell_type": "code",
   "execution_count": null,
   "metadata": {},
   "outputs": [],
   "source": [
    "print(train_idx,test_idx ,val_idx) "
   ]
  },
  {
   "cell_type": "code",
   "execution_count": null,
   "metadata": {},
   "outputs": [],
   "source": [
    "df_proba.describe()"
   ]
  },
  {
   "cell_type": "code",
   "execution_count": null,
   "metadata": {},
   "outputs": [],
   "source": [
    "df_bow.describe()"
   ]
  },
  {
   "cell_type": "code",
   "execution_count": 43,
   "metadata": {},
   "outputs": [],
   "source": [
    "df_final = df_bow.join(df_proba)"
   ]
  },
  {
   "cell_type": "code",
   "execution_count": 24,
   "metadata": {},
   "outputs": [],
   "source": [
    "Y = rf_random.predict(X)\n"
   ]
  },
  {
   "cell_type": "markdown",
   "metadata": {},
   "source": [
    "# Results on full data"
   ]
  },
  {
   "cell_type": "code",
   "execution_count": 25,
   "metadata": {},
   "outputs": [
    {
     "name": "stdout",
     "output_type": "stream",
     "text": [
      "              precision    recall  f1-score   support\n",
      "\n",
      "       Blues       1.00      0.64      0.78       186\n",
      "     Country       0.98      0.78      0.87      1089\n",
      "  Electronic       0.95      0.71      0.81       946\n",
      "        Folk       1.00      0.74      0.85       575\n",
      "        Jazz       0.99      0.59      0.74       451\n",
      "       Latin       0.85      0.95      0.90       286\n",
      "       Metal       0.90      0.82      0.86      2009\n",
      "     New_Age       0.92      0.53      0.67        66\n",
      "         Pop       0.81      0.83      0.82      2420\n",
      "        Punk       1.00      0.68      0.81       546\n",
      "         Rap       0.94      0.95      0.94      1347\n",
      "      Reggae       0.99      0.77      0.87       595\n",
      "         RnB       0.98      0.70      0.82       909\n",
      "        Rock       0.63      0.94      0.76      3228\n",
      "       World       0.97      0.71      0.82        97\n",
      "\n",
      "    accuracy                           0.82     14750\n",
      "   macro avg       0.93      0.76      0.82     14750\n",
      "weighted avg       0.86      0.82      0.83     14750\n",
      "\n"
     ]
    }
   ],
   "source": [
    "Y_pred = Y\n",
    "Y_true = le.transform(df_bow[\"genre\"].values)\n",
    "print(classification_report(Y_true, Y_pred, target_names=class_names))"
   ]
  },
  {
   "cell_type": "code",
   "execution_count": null,
   "metadata": {},
   "outputs": [],
   "source": []
  },
  {
   "cell_type": "code",
   "execution_count": 8,
   "metadata": {},
   "outputs": [
    {
     "name": "stdout",
     "output_type": "stream",
     "text": [
      "Classes :  ['Blues' 'Country' 'Electronic' 'Folk' 'Jazz' 'Latin' 'Metal' 'New_Age'\n",
      " 'Pop' 'Punk' 'Rap' 'Reggae' 'RnB' 'Rock' 'World'] \n",
      "\n",
      "(14750,)\n"
     ]
    }
   ],
   "source": [
    "label = df_bow['genre'].array\n",
    "# print(label.shape)\n",
    "\n",
    "le = LabelEncoder()\n",
    "le.fit(label)\n",
    "class_names = le.classes_\n",
    "print(\"Classes : \", le.classes_, \"\\n\")\n",
    "y_classes = le.transform(label)\n",
    "\n",
    "print( y_classes.shape)\n",
    "y = to_categorical(y_classes)"
   ]
  },
  {
   "cell_type": "markdown",
   "metadata": {},
   "source": [
    "# Deep Classifier"
   ]
  },
  {
   "cell_type": "code",
   "execution_count": null,
   "metadata": {},
   "outputs": [],
   "source": []
  },
  {
   "cell_type": "code",
   "execution_count": 52,
   "metadata": {},
   "outputs": [
    {
     "name": "stdout",
     "output_type": "stream",
     "text": [
      "Classes :  ['Blues' 'Country' 'Electronic' 'Folk' 'Jazz' 'Latin' 'Metal' 'New_Age'\n",
      " 'Pop' 'Punk' 'Rap' 'Reggae' 'RnB' 'Rock' 'World'] \n",
      "\n",
      "(14750,)\n"
     ]
    }
   ],
   "source": [
    "label = df_bow['genre'].array\n",
    "# print(label.shape)\n",
    "\n",
    "le = LabelEncoder()\n",
    "le.fit(label)\n",
    "class_names = le.classes_\n",
    "print(\"Classes : \", le.classes_, \"\\n\")\n",
    "y_classes = le.transform(label)\n",
    "\n",
    "print( y_classes.shape)\n",
    "y = to_categorical(y_classes)"
   ]
  },
  {
   "cell_type": "code",
   "execution_count": 53,
   "metadata": {},
   "outputs": [],
   "source": [
    "X_train, y_train = X[train_idx], y[train_idx]\n",
    "X_test, y_test = X[test_idx], y[test_idx]\n",
    "X_val, y_val = X[val_idx], y[val_idx]"
   ]
  },
  {
   "cell_type": "code",
   "execution_count": 54,
   "metadata": {},
   "outputs": [],
   "source": [
    "nb_classes = len(le.classes_)\n",
    "nb_features = len(X_train[0])\n",
    "#X_train, X_test, X_val = np.expand_dims(X_train, axis=-1), np.expand_dims(X_test, axis=-1), np.expand_dims(X_val, axis=-1)"
   ]
  },
  {
   "cell_type": "code",
   "execution_count": 55,
   "metadata": {},
   "outputs": [
    {
     "data": {
      "text/plain": [
       "((10340, 5000), (10340, 15))"
      ]
     },
     "execution_count": 55,
     "metadata": {},
     "output_type": "execute_result"
    }
   ],
   "source": [
    "X_train.shape, y_train.shape"
   ]
  },
  {
   "cell_type": "code",
   "execution_count": 155,
   "metadata": {},
   "outputs": [
    {
     "name": "stdout",
     "output_type": "stream",
     "text": [
      "Model: \"sequential_18\"\n",
      "_________________________________________________________________\n",
      "Layer (type)                 Output Shape              Param #   \n",
      "=================================================================\n",
      "dense_68 (Dense)             (None, 32)                160032    \n",
      "_________________________________________________________________\n",
      "batch_normalization_39 (Batc (None, 32)                128       \n",
      "_________________________________________________________________\n",
      "dropout_29 (Dropout)         (None, 32)                0         \n",
      "_________________________________________________________________\n",
      "dense_69 (Dense)             (None, 32)                1056      \n",
      "_________________________________________________________________\n",
      "batch_normalization_40 (Batc (None, 32)                128       \n",
      "_________________________________________________________________\n",
      "dropout_30 (Dropout)         (None, 32)                0         \n",
      "_________________________________________________________________\n",
      "dense_70 (Dense)             (None, 32)                1056      \n",
      "_________________________________________________________________\n",
      "batch_normalization_41 (Batc (None, 32)                128       \n",
      "_________________________________________________________________\n",
      "dropout_31 (Dropout)         (None, 32)                0         \n",
      "_________________________________________________________________\n",
      "dense_71 (Dense)             (None, 15)                495       \n",
      "=================================================================\n",
      "Total params: 163,023\n",
      "Trainable params: 162,831\n",
      "Non-trainable params: 192\n",
      "_________________________________________________________________\n"
     ]
    }
   ],
   "source": [
    "model = Sequential()\n",
    "\n",
    "\n",
    "model.add(Dense(32,input_dim=(nb_features)))\n",
    "model.add(BatchNormalization())\n",
    "model.add(Dropout(0.3))\n",
    "model.add(Dense(32))\n",
    "model.add(BatchNormalization())\n",
    "model.add(Dropout(0.3))\n",
    "model.add(Dense(32))\n",
    "model.add(BatchNormalization())\n",
    "model.add(Dropout(0.3))\n",
    "model.add(Dense(nb_classes, activation='softmax'))\n",
    "model.compile(optimizer='adam',\n",
    "              loss='categorical_crossentropy',\n",
    "              metrics=['accuracy'])\n",
    "\n",
    "model.summary()"
   ]
  },
  {
   "cell_type": "code",
   "execution_count": 156,
   "metadata": {},
   "outputs": [
    {
     "name": "stdout",
     "output_type": "stream",
     "text": [
      "Train on 10340 samples, validate on 2298 samples\n",
      "Epoch 1/3\n",
      "10340/10340 [==============================] - 3s 335us/step - loss: 2.6604 - accuracy: 0.2214 - val_loss: 2.3586 - val_accuracy: 0.3159\n",
      "Epoch 2/3\n",
      "10340/10340 [==============================] - 1s 117us/step - loss: 2.1274 - accuracy: 0.3670 - val_loss: 1.9676 - val_accuracy: 0.4025\n",
      "Epoch 3/3\n",
      "10340/10340 [==============================] - 1s 98us/step - loss: 1.9210 - accuracy: 0.4143 - val_loss: 1.9225 - val_accuracy: 0.4073\n"
     ]
    }
   ],
   "source": [
    "history = model.fit(X_train, y_train, batch_size=128, epochs=3, validation_data=(X_val, y_val))"
   ]
  },
  {
   "cell_type": "code",
   "execution_count": 157,
   "metadata": {},
   "outputs": [],
   "source": [
    "y_pred = model.predict(X_test)"
   ]
  },
  {
   "cell_type": "code",
   "execution_count": 158,
   "metadata": {},
   "outputs": [],
   "source": [
    "y_pred = np.argmax(y_pred, axis =1)\n",
    "y_pred = to_categorical(y_pred, num_classes=15)"
   ]
  },
  {
   "cell_type": "code",
   "execution_count": 159,
   "metadata": {},
   "outputs": [
    {
     "data": {
      "text/plain": [
       "15"
      ]
     },
     "execution_count": 159,
     "metadata": {},
     "output_type": "execute_result"
    }
   ],
   "source": [
    "len(y_pred[10])"
   ]
  },
  {
   "cell_type": "code",
   "execution_count": 160,
   "metadata": {},
   "outputs": [
    {
     "name": "stdout",
     "output_type": "stream",
     "text": [
      "              precision    recall  f1-score   support\n",
      "\n",
      "       Blues       0.00      0.00      0.00        30\n",
      "     Country       0.36      0.24      0.29       107\n",
      "  Electronic       0.00      0.00      0.00       115\n",
      "        Folk       0.00      0.00      0.00        64\n",
      "        Jazz       0.00      0.00      0.00        96\n",
      "       Latin       0.59      0.35      0.44        46\n",
      "       Metal       0.49      0.65      0.56       275\n",
      "     New_Age       0.00      0.00      0.00         2\n",
      "         Pop       0.37      0.48      0.42       337\n",
      "        Punk       0.00      0.00      0.00        75\n",
      "         Rap       0.51      0.80      0.63       174\n",
      "      Reggae       0.42      0.14      0.21        94\n",
      "         RnB       0.53      0.16      0.25       191\n",
      "        Rock       0.36      0.61      0.45       497\n",
      "       World       0.00      0.00      0.00         9\n",
      "\n",
      "   micro avg       0.41      0.41      0.41      2112\n",
      "   macro avg       0.24      0.23      0.22      2112\n",
      "weighted avg       0.35      0.41      0.35      2112\n",
      " samples avg       0.41      0.41      0.41      2112\n",
      "\n"
     ]
    },
    {
     "name": "stderr",
     "output_type": "stream",
     "text": [
      "/Users/Bob/anaconda3/lib/python3.7/site-packages/sklearn/metrics/_classification.py:1272: UndefinedMetricWarning: Precision and F-score are ill-defined and being set to 0.0 in labels with no predicted samples. Use `zero_division` parameter to control this behavior.\n",
      "  _warn_prf(average, modifier, msg_start, len(result))\n"
     ]
    }
   ],
   "source": [
    "print(classification_report(y_test, y_pred, target_names=class_names))"
   ]
  },
  {
   "cell_type": "code",
   "execution_count": null,
   "metadata": {},
   "outputs": [],
   "source": []
  },
  {
   "cell_type": "code",
   "execution_count": 167,
   "metadata": {},
   "outputs": [],
   "source": [
    "y_pred = model.predict(X)\n"
   ]
  },
  {
   "cell_type": "code",
   "execution_count": 168,
   "metadata": {},
   "outputs": [],
   "source": [
    "y_pred = np.argmax(y_pred, axis =1)\n",
    "y_pred =to_categorical(y_pred, num_classes=15)"
   ]
  },
  {
   "cell_type": "code",
   "execution_count": 169,
   "metadata": {},
   "outputs": [
    {
     "name": "stdout",
     "output_type": "stream",
     "text": [
      "              precision    recall  f1-score   support\n",
      "\n",
      "       Blues       0.00      0.00      0.00       186\n",
      "     Country       0.55      0.34      0.42      1089\n",
      "  Electronic       0.77      0.02      0.04       946\n",
      "        Folk       0.80      0.01      0.01       575\n",
      "        Jazz       0.00      0.00      0.00       451\n",
      "       Latin       0.74      0.60      0.66       286\n",
      "       Metal       0.58      0.72      0.65      2009\n",
      "     New_Age       0.00      0.00      0.00        66\n",
      "         Pop       0.49      0.59      0.54      2420\n",
      "        Punk       0.00      0.00      0.00       546\n",
      "         Rap       0.63      0.88      0.74      1347\n",
      "      Reggae       0.57      0.17      0.26       595\n",
      "         RnB       0.56      0.26      0.36       909\n",
      "        Rock       0.38      0.71      0.50      3228\n",
      "       World       0.00      0.00      0.00        97\n",
      "\n",
      "   micro avg       0.49      0.49      0.49     14750\n",
      "   macro avg       0.41      0.29      0.28     14750\n",
      "weighted avg       0.50      0.49      0.43     14750\n",
      " samples avg       0.49      0.49      0.49     14750\n",
      "\n"
     ]
    }
   ],
   "source": [
    "print(classification_report(y, y_pred, target_names=class_names))"
   ]
  },
  {
   "cell_type": "code",
   "execution_count": 177,
   "metadata": {},
   "outputs": [
    {
     "data": {
      "text/plain": [
       "14750"
      ]
     },
     "execution_count": 177,
     "metadata": {},
     "output_type": "execute_result"
    }
   ],
   "source": [
    "len(y_pred)"
   ]
  },
  {
   "cell_type": "code",
   "execution_count": 178,
   "metadata": {},
   "outputs": [],
   "source": [
    "y_pred = [y_pred[i] for i in range(len(y_pred))]"
   ]
  },
  {
   "cell_type": "code",
   "execution_count": 179,
   "metadata": {},
   "outputs": [
    {
     "ename": "ValueError",
     "evalue": "bad input shape (14750, 15)",
     "output_type": "error",
     "traceback": [
      "\u001b[0;31m---------------------------------------------------------------------------\u001b[0m",
      "\u001b[0;31mValueError\u001b[0m                                Traceback (most recent call last)",
      "\u001b[0;32m<ipython-input-179-01c5d9c44977>\u001b[0m in \u001b[0;36m<module>\u001b[0;34m\u001b[0m\n\u001b[0;32m----> 1\u001b[0;31m \u001b[0my_pred\u001b[0m \u001b[0;34m=\u001b[0m \u001b[0mle\u001b[0m\u001b[0;34m.\u001b[0m\u001b[0minverse_transform\u001b[0m\u001b[0;34m(\u001b[0m\u001b[0my_pred\u001b[0m\u001b[0;34m)\u001b[0m\u001b[0;34m\u001b[0m\u001b[0;34m\u001b[0m\u001b[0m\n\u001b[0m",
      "\u001b[0;32m~/anaconda3/lib/python3.7/site-packages/sklearn/preprocessing/_label.py\u001b[0m in \u001b[0;36minverse_transform\u001b[0;34m(self, y)\u001b[0m\n\u001b[1;32m    287\u001b[0m         \"\"\"\n\u001b[1;32m    288\u001b[0m         \u001b[0mcheck_is_fitted\u001b[0m\u001b[0;34m(\u001b[0m\u001b[0mself\u001b[0m\u001b[0;34m)\u001b[0m\u001b[0;34m\u001b[0m\u001b[0;34m\u001b[0m\u001b[0m\n\u001b[0;32m--> 289\u001b[0;31m         \u001b[0my\u001b[0m \u001b[0;34m=\u001b[0m \u001b[0mcolumn_or_1d\u001b[0m\u001b[0;34m(\u001b[0m\u001b[0my\u001b[0m\u001b[0;34m,\u001b[0m \u001b[0mwarn\u001b[0m\u001b[0;34m=\u001b[0m\u001b[0;32mTrue\u001b[0m\u001b[0;34m)\u001b[0m\u001b[0;34m\u001b[0m\u001b[0;34m\u001b[0m\u001b[0m\n\u001b[0m\u001b[1;32m    290\u001b[0m         \u001b[0;31m# inverse transform of empty array is empty array\u001b[0m\u001b[0;34m\u001b[0m\u001b[0;34m\u001b[0m\u001b[0;34m\u001b[0m\u001b[0m\n\u001b[1;32m    291\u001b[0m         \u001b[0;32mif\u001b[0m \u001b[0m_num_samples\u001b[0m\u001b[0;34m(\u001b[0m\u001b[0my\u001b[0m\u001b[0;34m)\u001b[0m \u001b[0;34m==\u001b[0m \u001b[0;36m0\u001b[0m\u001b[0;34m:\u001b[0m\u001b[0;34m\u001b[0m\u001b[0;34m\u001b[0m\u001b[0m\n",
      "\u001b[0;32m~/anaconda3/lib/python3.7/site-packages/sklearn/utils/validation.py\u001b[0m in \u001b[0;36mcolumn_or_1d\u001b[0;34m(y, warn)\u001b[0m\n\u001b[1;32m    795\u001b[0m         \u001b[0;32mreturn\u001b[0m \u001b[0mnp\u001b[0m\u001b[0;34m.\u001b[0m\u001b[0mravel\u001b[0m\u001b[0;34m(\u001b[0m\u001b[0my\u001b[0m\u001b[0;34m)\u001b[0m\u001b[0;34m\u001b[0m\u001b[0;34m\u001b[0m\u001b[0m\n\u001b[1;32m    796\u001b[0m \u001b[0;34m\u001b[0m\u001b[0m\n\u001b[0;32m--> 797\u001b[0;31m     \u001b[0;32mraise\u001b[0m \u001b[0mValueError\u001b[0m\u001b[0;34m(\u001b[0m\u001b[0;34m\"bad input shape {0}\"\u001b[0m\u001b[0;34m.\u001b[0m\u001b[0mformat\u001b[0m\u001b[0;34m(\u001b[0m\u001b[0mshape\u001b[0m\u001b[0;34m)\u001b[0m\u001b[0;34m)\u001b[0m\u001b[0;34m\u001b[0m\u001b[0;34m\u001b[0m\u001b[0m\n\u001b[0m\u001b[1;32m    798\u001b[0m \u001b[0;34m\u001b[0m\u001b[0m\n\u001b[1;32m    799\u001b[0m \u001b[0;34m\u001b[0m\u001b[0m\n",
      "\u001b[0;31mValueError\u001b[0m: bad input shape (14750, 15)"
     ]
    }
   ],
   "source": [
    "y_pred = le.inverse_transform(y_pred)\n"
   ]
  },
  {
   "cell_type": "markdown",
   "metadata": {},
   "source": [
    "## Exporting"
   ]
  },
  {
   "cell_type": "code",
   "execution_count": 28,
   "metadata": {},
   "outputs": [
    {
     "ename": "NameError",
     "evalue": "name 'df_final' is not defined",
     "output_type": "error",
     "traceback": [
      "\u001b[0;31m---------------------------------------------------------------------------\u001b[0m",
      "\u001b[0;31mNameError\u001b[0m                                 Traceback (most recent call last)",
      "\u001b[0;32m<ipython-input-28-1a863b072f23>\u001b[0m in \u001b[0;36m<module>\u001b[0;34m\u001b[0m\n\u001b[1;32m      1\u001b[0m \u001b[0mY\u001b[0m \u001b[0;34m=\u001b[0m \u001b[0mle\u001b[0m\u001b[0;34m.\u001b[0m\u001b[0minverse_transform\u001b[0m\u001b[0;34m(\u001b[0m\u001b[0mY\u001b[0m\u001b[0;34m)\u001b[0m\u001b[0;34m\u001b[0m\u001b[0;34m\u001b[0m\u001b[0m\n\u001b[0;32m----> 2\u001b[0;31m \u001b[0mdf_final\u001b[0m\u001b[0;34m[\u001b[0m\u001b[0;34m\"bow_genre\"\u001b[0m\u001b[0;34m]\u001b[0m \u001b[0;34m=\u001b[0m \u001b[0mY\u001b[0m\u001b[0;34m\u001b[0m\u001b[0;34m\u001b[0m\u001b[0m\n\u001b[0m",
      "\u001b[0;31mNameError\u001b[0m: name 'df_final' is not defined"
     ]
    }
   ],
   "source": [
    "Y = le.inverse_transform(Y)\n",
    "df_final[\"bow_genre\"] = Y"
   ]
  },
  {
   "cell_type": "code",
   "execution_count": 55,
   "metadata": {},
   "outputs": [],
   "source": [
    "df_final = df_final.drop(\"bow\", axis = 1)"
   ]
  },
  {
   "cell_type": "code",
   "execution_count": 56,
   "metadata": {},
   "outputs": [],
   "source": [
    "export_csv = df_final.to_csv (r'../data/bow_results.csv', index = None, header=True)"
   ]
  },
  {
   "cell_type": "code",
   "execution_count": null,
   "metadata": {},
   "outputs": [],
   "source": []
  }
 ],
 "metadata": {
  "kernelspec": {
   "display_name": "Python 3",
   "language": "python",
   "name": "python3"
  },
  "language_info": {
   "codemirror_mode": {
    "name": "ipython",
    "version": 3
   },
   "file_extension": ".py",
   "mimetype": "text/x-python",
   "name": "python",
   "nbconvert_exporter": "python",
   "pygments_lexer": "ipython3",
   "version": "3.7.3"
  }
 },
 "nbformat": 4,
 "nbformat_minor": 4
}
