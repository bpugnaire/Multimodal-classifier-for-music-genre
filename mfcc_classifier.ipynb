{
 "cells": [
  {
   "cell_type": "code",
   "execution_count": 2,
   "metadata": {},
   "outputs": [],
   "source": [
    "import numpy as np\n",
    "import pandas as pd\n",
    "\n",
    "from sklearn.preprocessing import LabelEncoder\n",
    "from sklearn.metrics import roc_auc_score\n",
    "\n",
    "from pathlib import Path\n",
    "from sklearn.metrics import confusion_matrix, plot_confusion_matrix, classification_report\n",
    "from sklearn.ensemble import RandomForestClassifier, AdaBoostClassifier\n",
    "from sklearn.model_selection import RandomizedSearchCV\n",
    "\n",
    "\n",
    "msdi_path = \"../data/msdi/\""
   ]
  },
  {
   "cell_type": "code",
   "execution_count": 3,
   "metadata": {},
   "outputs": [],
   "source": [
    "def load_mfcc(entry, msdi_path):\n",
    "    x = np.load(Path(msdi_path) / entry['mfcc'])\n",
    "    mfcc = x[entry['msd_track_id']]\n",
    "    mfcc = np.mean(mfcc, axis=0)\n",
    "    return(mfcc)"
   ]
  },
  {
   "cell_type": "code",
   "execution_count": 4,
   "metadata": {},
   "outputs": [],
   "source": [
    "df_entry = pd.read_csv(msdi_path+\"msdi_mapping.csv\")\n",
    "df_entry = df_entry.drop([\"Unnamed: 0\"], axis = 1)"
   ]
  },
  {
   "cell_type": "code",
   "execution_count": 5,
   "metadata": {},
   "outputs": [
    {
     "data": {
      "text/plain": [
       "(12,)"
      ]
     },
     "execution_count": 5,
     "metadata": {},
     "output_type": "execute_result"
    }
   ],
   "source": [
    "load_mfcc(df_entry.iloc[3], msdi_path).shape"
   ]
  },
  {
   "cell_type": "code",
   "execution_count": 6,
   "metadata": {},
   "outputs": [],
   "source": [
    "X = df_entry.apply(lambda entry :\n",
    "                            load_mfcc(entry, msdi_path), \n",
    "                            raw =True,\n",
    "                            result_type='expand',\n",
    "                            axis=1 )"
   ]
  },
  {
   "cell_type": "code",
   "execution_count": 7,
   "metadata": {},
   "outputs": [
    {
     "data": {
      "text/plain": [
       "(30712, 12)"
      ]
     },
     "execution_count": 7,
     "metadata": {},
     "output_type": "execute_result"
    }
   ],
   "source": [
    "X.shape"
   ]
  },
  {
   "cell_type": "code",
   "execution_count": 8,
   "metadata": {},
   "outputs": [
    {
     "name": "stdout",
     "output_type": "stream",
     "text": [
      "Classes :  ['Blues' 'Country' 'Electronic' 'Folk' 'Jazz' 'Latin' 'Metal' 'New Age'\n",
      " 'Pop' 'Punk' 'Rap' 'Reggae' 'RnB' 'Rock' 'World'] \n",
      "\n",
      "(30712,)\n"
     ]
    }
   ],
   "source": [
    "label = df_entry['genre'].array\n",
    "# print(label.shape)\n",
    "\n",
    "le = LabelEncoder()\n",
    "le.fit(label)\n",
    "class_names = le.classes_\n",
    "print(\"Classes : \", le.classes_, \"\\n\")\n",
    "y_classes = le.transform(label)\n",
    "\n",
    "print( y_classes.shape)\n",
    "#y = to_categorical(y_classes)"
   ]
  },
  {
   "cell_type": "code",
   "execution_count": 9,
   "metadata": {},
   "outputs": [],
   "source": [
    "X = X.values"
   ]
  },
  {
   "cell_type": "code",
   "execution_count": 10,
   "metadata": {},
   "outputs": [],
   "source": [
    "train_idx = df_entry.index[df_entry['set'] == \"train\"].tolist()\n",
    "test_idx = df_entry.index[df_entry['set'] == \"test\"].tolist()\n",
    "val_idx = df_entry.index[df_entry['set'] == \"val\"].tolist()"
   ]
  },
  {
   "cell_type": "code",
   "execution_count": 11,
   "metadata": {},
   "outputs": [],
   "source": [
    "X_train, y_train = X[train_idx], y_classes[train_idx]\n",
    "X_test, y_test = X[test_idx], y_classes[test_idx]\n",
    "X_val, y_val = X[val_idx], y_classes[val_idx]"
   ]
  },
  {
   "cell_type": "code",
   "execution_count": null,
   "metadata": {},
   "outputs": [],
   "source": []
  },
  {
   "cell_type": "markdown",
   "metadata": {},
   "source": [
    "## Classifier"
   ]
  },
  {
   "cell_type": "markdown",
   "metadata": {},
   "source": [
    "### Adaboost"
   ]
  },
  {
   "cell_type": "code",
   "execution_count": 88,
   "metadata": {},
   "outputs": [
    {
     "data": {
      "text/plain": [
       "AdaBoostClassifier(algorithm='SAMME.R', base_estimator=None, learning_rate=1.0,\n",
       "                   n_estimators=15, random_state=42)"
      ]
     },
     "execution_count": 88,
     "metadata": {},
     "output_type": "execute_result"
    }
   ],
   "source": [
    "clf = AdaBoostClassifier(n_estimators=15, random_state=42)\n",
    "clf.fit(X_train,y_train)\n"
   ]
  },
  {
   "cell_type": "code",
   "execution_count": 89,
   "metadata": {},
   "outputs": [],
   "source": [
    "y_pred = clf.predict(X_test)"
   ]
  },
  {
   "cell_type": "code",
   "execution_count": 90,
   "metadata": {},
   "outputs": [
    {
     "name": "stdout",
     "output_type": "stream",
     "text": [
      "0.3405033340503334\n"
     ]
    }
   ],
   "source": [
    "print(clf.score(X_test,y_test))"
   ]
  },
  {
   "cell_type": "code",
   "execution_count": 91,
   "metadata": {},
   "outputs": [
    {
     "name": "stdout",
     "output_type": "stream",
     "text": [
      "              precision    recall  f1-score   support\n",
      "\n",
      "       Blues       0.29      0.02      0.04       190\n",
      "     Country       0.19      0.13      0.15       194\n",
      "  Electronic       0.51      0.53      0.52       708\n",
      "        Folk       0.16      0.10      0.12       136\n",
      "        Jazz       0.31      0.31      0.31       461\n",
      "       Latin       0.00      0.00      0.00        81\n",
      "       Metal       0.42      0.72      0.53       374\n",
      "     New Age       0.05      0.05      0.05        38\n",
      "         Pop       0.25      0.30      0.27       463\n",
      "        Punk       0.12      0.03      0.05        95\n",
      "         Rap       0.26      0.54      0.35       379\n",
      "      Reggae       0.28      0.33      0.30       263\n",
      "         RnB       0.29      0.01      0.01       395\n",
      "        Rock       0.37      0.38      0.38       827\n",
      "       World       0.00      0.00      0.00        45\n",
      "\n",
      "    accuracy                           0.34      4649\n",
      "   macro avg       0.23      0.23      0.21      4649\n",
      "weighted avg       0.32      0.34      0.31      4649\n",
      "\n"
     ]
    },
    {
     "name": "stderr",
     "output_type": "stream",
     "text": [
      "/Users/Bob/anaconda3/lib/python3.7/site-packages/sklearn/metrics/_classification.py:1272: UndefinedMetricWarning: Precision and F-score are ill-defined and being set to 0.0 in labels with no predicted samples. Use `zero_division` parameter to control this behavior.\n",
      "  _warn_prf(average, modifier, msg_start, len(result))\n"
     ]
    }
   ],
   "source": [
    "print(classification_report(y_test, y_pred, target_names=class_names))"
   ]
  },
  {
   "cell_type": "code",
   "execution_count": 92,
   "metadata": {},
   "outputs": [
    {
     "name": "stdout",
     "output_type": "stream",
     "text": [
      "              precision    recall  f1-score   support\n",
      "\n",
      "       Blues       0.29      0.05      0.08       825\n",
      "     Country       0.25      0.17      0.20      1778\n",
      "  Electronic       0.52      0.49      0.50      4801\n",
      "        Folk       0.18      0.12      0.14      1144\n",
      "        Jazz       0.31      0.34      0.32      2671\n",
      "       Latin       0.00      0.00      0.00       550\n",
      "       Metal       0.43      0.68      0.53      2617\n",
      "     New Age       0.14      0.16      0.15       265\n",
      "         Pop       0.27      0.28      0.27      3429\n",
      "        Punk       0.17      0.03      0.05       713\n",
      "         Rap       0.28      0.51      0.36      2674\n",
      "      Reggae       0.26      0.31      0.28      1699\n",
      "         RnB       0.22      0.01      0.01      1836\n",
      "        Rock       0.32      0.37      0.34      5213\n",
      "       World       0.00      0.00      0.00       497\n",
      "\n",
      "    accuracy                           0.34     30712\n",
      "   macro avg       0.24      0.23      0.22     30712\n",
      "weighted avg       0.31      0.34      0.31     30712\n",
      "\n"
     ]
    },
    {
     "name": "stderr",
     "output_type": "stream",
     "text": [
      "/Users/Bob/anaconda3/lib/python3.7/site-packages/sklearn/metrics/_classification.py:1272: UndefinedMetricWarning: Precision and F-score are ill-defined and being set to 0.0 in labels with no predicted samples. Use `zero_division` parameter to control this behavior.\n",
      "  _warn_prf(average, modifier, msg_start, len(result))\n"
     ]
    }
   ],
   "source": [
    "Y_pred = clf.predict(X)\n",
    "\n",
    "Y_true = le.transform(df_entry[\"genre\"].values)\n",
    "print(classification_report(Y_true, Y_pred, target_names=class_names))"
   ]
  },
  {
   "cell_type": "code",
   "execution_count": null,
   "metadata": {},
   "outputs": [],
   "source": []
  },
  {
   "cell_type": "code",
   "execution_count": null,
   "metadata": {},
   "outputs": [],
   "source": []
  },
  {
   "cell_type": "markdown",
   "metadata": {},
   "source": [
    "### Random Forest"
   ]
  },
  {
   "cell_type": "code",
   "execution_count": 1,
   "metadata": {},
   "outputs": [
    {
     "ename": "NameError",
     "evalue": "name 'RandomForestClassifier' is not defined",
     "output_type": "error",
     "traceback": [
      "\u001b[0;31m---------------------------------------------------------------------------\u001b[0m",
      "\u001b[0;31mNameError\u001b[0m                                 Traceback (most recent call last)",
      "\u001b[0;32m<ipython-input-1-8e537d12eba1>\u001b[0m in \u001b[0;36m<module>\u001b[0;34m\u001b[0m\n\u001b[0;32m----> 1\u001b[0;31m \u001b[0mclf\u001b[0m \u001b[0;34m=\u001b[0m \u001b[0mRandomForestClassifier\u001b[0m\u001b[0;34m(\u001b[0m\u001b[0mrandom_state\u001b[0m\u001b[0;34m=\u001b[0m\u001b[0;36m42\u001b[0m\u001b[0;34m)\u001b[0m\u001b[0;34m\u001b[0m\u001b[0;34m\u001b[0m\u001b[0m\n\u001b[0m\u001b[1;32m      2\u001b[0m \u001b[0mclf\u001b[0m\u001b[0;34m.\u001b[0m\u001b[0mfit\u001b[0m\u001b[0;34m(\u001b[0m\u001b[0mX_train\u001b[0m\u001b[0;34m,\u001b[0m\u001b[0my_train\u001b[0m\u001b[0;34m)\u001b[0m\u001b[0;34m\u001b[0m\u001b[0;34m\u001b[0m\u001b[0m\n",
      "\u001b[0;31mNameError\u001b[0m: name 'RandomForestClassifier' is not defined"
     ]
    }
   ],
   "source": [
    "clf = RandomForestClassifier(random_state=42)\n",
    "clf.fit(X_train,y_train)\n"
   ]
  },
  {
   "cell_type": "code",
   "execution_count": 36,
   "metadata": {},
   "outputs": [],
   "source": [
    "y_pred = clf.predict(X_train)"
   ]
  },
  {
   "cell_type": "code",
   "execution_count": 37,
   "metadata": {},
   "outputs": [
    {
     "name": "stdout",
     "output_type": "stream",
     "text": [
      "0.4317057431705743\n"
     ]
    }
   ],
   "source": [
    "print(clf.score(X_test,y_test))"
   ]
  },
  {
   "cell_type": "code",
   "execution_count": 38,
   "metadata": {},
   "outputs": [
    {
     "name": "stdout",
     "output_type": "stream",
     "text": [
      "              precision    recall  f1-score   support\n",
      "\n",
      "       Blues       1.00      1.00      1.00       515\n",
      "     Country       1.00      1.00      1.00      1343\n",
      "  Electronic       1.00      1.00      1.00      3373\n",
      "        Folk       1.00      1.00      1.00       844\n",
      "        Jazz       1.00      1.00      1.00      1837\n",
      "       Latin       1.00      1.00      1.00       387\n",
      "       Metal       1.00      1.00      1.00      1731\n",
      "     New Age       1.00      1.00      1.00       156\n",
      "         Pop       1.00      1.00      1.00      2322\n",
      "        Punk       1.00      1.00      1.00       486\n",
      "         Rap       1.00      1.00      1.00      1917\n",
      "      Reggae       1.00      1.00      1.00      1246\n",
      "         RnB       1.00      1.00      1.00      1219\n",
      "        Rock       1.00      1.00      1.00      3678\n",
      "       World       1.00      1.00      1.00       329\n",
      "\n",
      "    accuracy                           1.00     21383\n",
      "   macro avg       1.00      1.00      1.00     21383\n",
      "weighted avg       1.00      1.00      1.00     21383\n",
      "\n"
     ]
    }
   ],
   "source": [
    "print(classification_report(y_train, y_pred, target_names=class_names))"
   ]
  },
  {
   "cell_type": "markdown",
   "metadata": {},
   "source": [
    "## Hyperparameters tuning"
   ]
  },
  {
   "cell_type": "code",
   "execution_count": 53,
   "metadata": {},
   "outputs": [],
   "source": [
    "# Number of trees in random forest\n",
    "n_estimators = [int(x) for x in np.linspace(start = 5, stop = 50, num = 10)]\n",
    "# Number of features to consider at every split\n",
    "max_features = ['auto']\n",
    "# Maximum number of levels in tree\n",
    "max_depth = [int(x) for x in np.linspace(2, 10, num = 5)]\n",
    "# Minimum number of samples required to split a node\n",
    "\n",
    "max_leaf_nodes = [2, 5, 9, 13, 17]\n",
    "min_samples_split = [2, 5, 7]\n",
    "# Minimum number of samples required at each leaf node\n",
    "min_samples_leaf = [1, 2, 4]\n",
    "# Method of selecting samples for training each tree\n",
    "bootstrap = [True, False]\n",
    "# Create the random grid\n",
    "random_grid = {'n_estimators': n_estimators,\n",
    "               'max_features': max_features,\n",
    "               'max_depth': max_depth,\n",
    "               'max_leaf_nodes' : max_leaf_nodes,\n",
    "               'min_samples_split': min_samples_split,\n",
    "               'min_samples_leaf': min_samples_leaf,\n",
    "               'bootstrap': bootstrap}"
   ]
  },
  {
   "cell_type": "code",
   "execution_count": 54,
   "metadata": {},
   "outputs": [
    {
     "name": "stdout",
     "output_type": "stream",
     "text": [
      "Fitting 5 folds for each of 50 candidates, totalling 250 fits\n"
     ]
    },
    {
     "name": "stderr",
     "output_type": "stream",
     "text": [
      "[Parallel(n_jobs=3)]: Using backend LokyBackend with 3 concurrent workers.\n",
      "[Parallel(n_jobs=3)]: Done  35 tasks      | elapsed:   11.3s\n",
      "[Parallel(n_jobs=3)]: Done 156 tasks      | elapsed:   59.7s\n",
      "[Parallel(n_jobs=3)]: Done 250 out of 250 | elapsed:  1.4min finished\n"
     ]
    },
    {
     "data": {
      "text/plain": [
       "RandomizedSearchCV(cv=5, error_score=nan,\n",
       "                   estimator=RandomForestClassifier(bootstrap=True,\n",
       "                                                    ccp_alpha=0.0,\n",
       "                                                    class_weight=None,\n",
       "                                                    criterion='gini',\n",
       "                                                    max_depth=None,\n",
       "                                                    max_features='auto',\n",
       "                                                    max_leaf_nodes=None,\n",
       "                                                    max_samples=None,\n",
       "                                                    min_impurity_decrease=0.0,\n",
       "                                                    min_impurity_split=None,\n",
       "                                                    min_samples_leaf=1,\n",
       "                                                    min_samples_split=2,\n",
       "                                                    min_weight_fraction_leaf=0.0,\n",
       "                                                    n_estimators=100,\n",
       "                                                    n_jobs...\n",
       "                   iid='deprecated', n_iter=50, n_jobs=3,\n",
       "                   param_distributions={'bootstrap': [True, False],\n",
       "                                        'max_depth': [2, 4, 6, 8, 10],\n",
       "                                        'max_features': ['auto'],\n",
       "                                        'max_leaf_nodes': [2, 5, 9, 13, 17],\n",
       "                                        'min_samples_leaf': [1, 2, 4],\n",
       "                                        'min_samples_split': [2, 5, 7],\n",
       "                                        'n_estimators': [5, 10, 15, 20, 25, 30,\n",
       "                                                         35, 40, 45, 50]},\n",
       "                   pre_dispatch='2*n_jobs', random_state=42, refit=True,\n",
       "                   return_train_score=False, scoring=None, verbose=2)"
      ]
     },
     "execution_count": 54,
     "metadata": {},
     "output_type": "execute_result"
    }
   ],
   "source": [
    "rf_random = RandomizedSearchCV(estimator = clf, param_distributions = random_grid, n_iter = 50, cv = 5, verbose=2, random_state=42, n_jobs = 3)\n",
    "# Fit the random search model\n",
    "rf_random.fit(X_train, y_train)"
   ]
  },
  {
   "cell_type": "code",
   "execution_count": 55,
   "metadata": {},
   "outputs": [
    {
     "data": {
      "text/plain": [
       "{'n_estimators': 20,\n",
       " 'min_samples_split': 2,\n",
       " 'min_samples_leaf': 2,\n",
       " 'max_leaf_nodes': 17,\n",
       " 'max_features': 'auto',\n",
       " 'max_depth': 6,\n",
       " 'bootstrap': False}"
      ]
     },
     "execution_count": 55,
     "metadata": {},
     "output_type": "execute_result"
    }
   ],
   "source": [
    "rf_random.best_params_"
   ]
  },
  {
   "cell_type": "code",
   "execution_count": 56,
   "metadata": {},
   "outputs": [
    {
     "name": "stdout",
     "output_type": "stream",
     "text": [
      "              precision    recall  f1-score   support\n",
      "\n",
      "       Blues       0.00      0.00      0.00       515\n",
      "     Country       0.38      0.01      0.01      1343\n",
      "  Electronic       0.44      0.74      0.55      3373\n",
      "        Folk       0.00      0.00      0.00       844\n",
      "        Jazz       0.30      0.29      0.29      1837\n",
      "       Latin       0.00      0.00      0.00       387\n",
      "       Metal       0.61      0.58      0.60      1731\n",
      "     New Age       0.00      0.00      0.00       156\n",
      "         Pop       0.28      0.13      0.17      2322\n",
      "        Punk       0.00      0.00      0.00       486\n",
      "         Rap       0.36      0.63      0.45      1917\n",
      "      Reggae       0.60      0.00      0.00      1246\n",
      "         RnB       0.00      0.00      0.00      1219\n",
      "        Rock       0.32      0.67      0.43      3678\n",
      "       World       0.00      0.00      0.00       329\n",
      "\n",
      "    accuracy                           0.37     21383\n",
      "   macro avg       0.22      0.20      0.17     21383\n",
      "weighted avg       0.32      0.37      0.29     21383\n",
      "\n"
     ]
    },
    {
     "name": "stderr",
     "output_type": "stream",
     "text": [
      "/Users/Bob/anaconda3/lib/python3.7/site-packages/sklearn/metrics/_classification.py:1272: UndefinedMetricWarning: Precision and F-score are ill-defined and being set to 0.0 in labels with no predicted samples. Use `zero_division` parameter to control this behavior.\n",
      "  _warn_prf(average, modifier, msg_start, len(result))\n"
     ]
    }
   ],
   "source": [
    "y_pred = rf_random.predict(X_train)\n",
    "print(classification_report(y_train, y_pred, target_names=class_names))"
   ]
  },
  {
   "cell_type": "code",
   "execution_count": 57,
   "metadata": {},
   "outputs": [
    {
     "name": "stdout",
     "output_type": "stream",
     "text": [
      "              precision    recall  f1-score   support\n",
      "\n",
      "       Blues       0.00      0.00      0.00       190\n",
      "     Country       0.17      0.01      0.01       194\n",
      "  Electronic       0.42      0.77      0.54       708\n",
      "        Folk       0.00      0.00      0.00       136\n",
      "        Jazz       0.31      0.22      0.26       461\n",
      "       Latin       0.00      0.00      0.00        81\n",
      "       Metal       0.58      0.62      0.60       374\n",
      "     New Age       0.00      0.00      0.00        38\n",
      "         Pop       0.23      0.12      0.15       463\n",
      "        Punk       0.00      0.00      0.00        95\n",
      "         Rap       0.32      0.63      0.42       379\n",
      "      Reggae       0.00      0.00      0.00       263\n",
      "         RnB       0.00      0.00      0.00       395\n",
      "        Rock       0.33      0.66      0.44       827\n",
      "       World       0.00      0.00      0.00        45\n",
      "\n",
      "    accuracy                           0.37      4649\n",
      "   macro avg       0.16      0.20      0.16      4649\n",
      "weighted avg       0.26      0.37      0.29      4649\n",
      "\n"
     ]
    },
    {
     "name": "stderr",
     "output_type": "stream",
     "text": [
      "/Users/Bob/anaconda3/lib/python3.7/site-packages/sklearn/metrics/_classification.py:1272: UndefinedMetricWarning: Precision and F-score are ill-defined and being set to 0.0 in labels with no predicted samples. Use `zero_division` parameter to control this behavior.\n",
      "  _warn_prf(average, modifier, msg_start, len(result))\n"
     ]
    }
   ],
   "source": [
    "y_pred = rf_random.predict(X_test)\n",
    "print(classification_report(y_test, y_pred, target_names=class_names))"
   ]
  },
  {
   "cell_type": "code",
   "execution_count": 58,
   "metadata": {},
   "outputs": [
    {
     "name": "stdout",
     "output_type": "stream",
     "text": [
      "0.36846633684663366\n"
     ]
    }
   ],
   "source": [
    "print(rf_random.score(X_test,y_test))"
   ]
  },
  {
   "cell_type": "markdown",
   "metadata": {},
   "source": [
    "## Results on full data"
   ]
  },
  {
   "cell_type": "code",
   "execution_count": 59,
   "metadata": {},
   "outputs": [
    {
     "name": "stdout",
     "output_type": "stream",
     "text": [
      "              precision    recall  f1-score   support\n",
      "\n",
      "       Blues       0.00      0.00      0.00       825\n",
      "     Country       0.29      0.01      0.01      1778\n",
      "  Electronic       0.43      0.74      0.54      4801\n",
      "        Folk       0.00      0.00      0.00      1144\n",
      "        Jazz       0.30      0.28      0.29      2671\n",
      "       Latin       0.00      0.00      0.00       550\n",
      "       Metal       0.62      0.58      0.60      2617\n",
      "     New Age       0.00      0.00      0.00       265\n",
      "         Pop       0.28      0.12      0.17      3429\n",
      "        Punk       0.00      0.00      0.00       713\n",
      "         Rap       0.35      0.63      0.45      2674\n",
      "      Reggae       0.50      0.00      0.00      1699\n",
      "         RnB       0.00      0.00      0.00      1836\n",
      "        Rock       0.31      0.67      0.42      5213\n",
      "       World       0.00      0.00      0.00       497\n",
      "\n",
      "    accuracy                           0.37     30712\n",
      "   macro avg       0.21      0.20      0.17     30712\n",
      "weighted avg       0.31      0.37      0.29     30712\n",
      "\n"
     ]
    },
    {
     "name": "stderr",
     "output_type": "stream",
     "text": [
      "/Users/Bob/anaconda3/lib/python3.7/site-packages/sklearn/metrics/_classification.py:1272: UndefinedMetricWarning: Precision and F-score are ill-defined and being set to 0.0 in labels with no predicted samples. Use `zero_division` parameter to control this behavior.\n",
      "  _warn_prf(average, modifier, msg_start, len(result))\n"
     ]
    }
   ],
   "source": [
    "Y_pred = rf_random.predict(X)\n",
    "\n",
    "Y_true = le.transform(df_entry[\"genre\"].values)\n",
    "print(classification_report(Y_true, Y_pred, target_names=class_names))"
   ]
  },
  {
   "cell_type": "code",
   "execution_count": 191,
   "metadata": {},
   "outputs": [
    {
     "name": "stdout",
     "output_type": "stream",
     "text": [
      "              precision    recall  f1-score   support\n",
      "\n",
      "       Blues       0.93      0.63      0.75       825\n",
      "     Country       0.83      0.84      0.83      1778\n",
      "  Electronic       0.81      0.91      0.86      4801\n",
      "        Folk       0.88      0.78      0.82      1144\n",
      "        Jazz       0.80      0.81      0.80      2671\n",
      "       Latin       0.99      0.68      0.81       550\n",
      "       Metal       0.88      0.87      0.88      2617\n",
      "     New Age       0.99      0.54      0.70       265\n",
      "         Pop       0.81      0.77      0.79      3429\n",
      "        Punk       0.98      0.66      0.79       713\n",
      "         Rap       0.77      0.89      0.83      2674\n",
      "      Reggae       0.88      0.78      0.83      1699\n",
      "         RnB       0.88      0.71      0.78      1836\n",
      "        Rock       0.76      0.87      0.81      5213\n",
      "       World       1.00      0.62      0.77       497\n",
      "\n",
      "    accuracy                           0.82     30712\n",
      "   macro avg       0.88      0.76      0.80     30712\n",
      "weighted avg       0.83      0.82      0.82     30712\n",
      "\n"
     ]
    }
   ],
   "source": []
  },
  {
   "cell_type": "markdown",
   "metadata": {},
   "source": [
    "## Exporting"
   ]
  },
  {
   "cell_type": "code",
   "execution_count": 93,
   "metadata": {},
   "outputs": [
    {
     "name": "stdout",
     "output_type": "stream",
     "text": [
      "(30712, 15)\n"
     ]
    }
   ],
   "source": [
    "Y_proba = clf.predict_proba(X)\n",
    "print(Y_proba.shape)\n",
    "\n",
    "df_proba = pd.DataFrame(data = Y_proba, columns = class_names)\n",
    "df_final = df_entry.join(df_proba)"
   ]
  },
  {
   "cell_type": "code",
   "execution_count": 94,
   "metadata": {},
   "outputs": [],
   "source": [
    "Y_pred = le.inverse_transform(Y_pred)\n",
    "df_final[\"mfcc_genre\"] = Y_pred"
   ]
  },
  {
   "cell_type": "code",
   "execution_count": 95,
   "metadata": {},
   "outputs": [],
   "source": [
    "df_final.drop(['album_index',\n",
    "       'msd_artist_id', 'image_url', 'img', 'mfcc', 'deep_features'], axis=1, inplace=True)"
   ]
  },
  {
   "cell_type": "code",
   "execution_count": 96,
   "metadata": {},
   "outputs": [
    {
     "data": {
      "text/html": [
       "<div>\n",
       "<style scoped>\n",
       "    .dataframe tbody tr th:only-of-type {\n",
       "        vertical-align: middle;\n",
       "    }\n",
       "\n",
       "    .dataframe tbody tr th {\n",
       "        vertical-align: top;\n",
       "    }\n",
       "\n",
       "    .dataframe thead th {\n",
       "        text-align: right;\n",
       "    }\n",
       "</style>\n",
       "<table border=\"1\" class=\"dataframe\">\n",
       "  <thead>\n",
       "    <tr style=\"text-align: right;\">\n",
       "      <th></th>\n",
       "      <th>msd_track_id</th>\n",
       "      <th>genre</th>\n",
       "      <th>set</th>\n",
       "      <th>Blues</th>\n",
       "      <th>Country</th>\n",
       "      <th>Electronic</th>\n",
       "      <th>Folk</th>\n",
       "      <th>Jazz</th>\n",
       "      <th>Latin</th>\n",
       "      <th>Metal</th>\n",
       "      <th>New Age</th>\n",
       "      <th>Pop</th>\n",
       "      <th>Punk</th>\n",
       "      <th>Rap</th>\n",
       "      <th>Reggae</th>\n",
       "      <th>RnB</th>\n",
       "      <th>Rock</th>\n",
       "      <th>World</th>\n",
       "      <th>mfcc_genre</th>\n",
       "    </tr>\n",
       "  </thead>\n",
       "  <tbody>\n",
       "    <tr>\n",
       "      <th>0</th>\n",
       "      <td>TRABKJU128F422A7FE</td>\n",
       "      <td>Metal</td>\n",
       "      <td>train</td>\n",
       "      <td>0.071384</td>\n",
       "      <td>0.077559</td>\n",
       "      <td>0.071399</td>\n",
       "      <td>0.065290</td>\n",
       "      <td>0.056474</td>\n",
       "      <td>0.057201</td>\n",
       "      <td>0.107543</td>\n",
       "      <td>0.006534</td>\n",
       "      <td>0.075655</td>\n",
       "      <td>0.084393</td>\n",
       "      <td>0.060039</td>\n",
       "      <td>0.060116</td>\n",
       "      <td>0.057414</td>\n",
       "      <td>0.092916</td>\n",
       "      <td>0.056082</td>\n",
       "      <td>Metal</td>\n",
       "    </tr>\n",
       "    <tr>\n",
       "      <th>1</th>\n",
       "      <td>TRBLDQQ128F92E58B4</td>\n",
       "      <td>Rock</td>\n",
       "      <td>train</td>\n",
       "      <td>0.066120</td>\n",
       "      <td>0.074482</td>\n",
       "      <td>0.071812</td>\n",
       "      <td>0.073876</td>\n",
       "      <td>0.073638</td>\n",
       "      <td>0.065633</td>\n",
       "      <td>0.058644</td>\n",
       "      <td>0.060485</td>\n",
       "      <td>0.073500</td>\n",
       "      <td>0.052563</td>\n",
       "      <td>0.063016</td>\n",
       "      <td>0.056861</td>\n",
       "      <td>0.067499</td>\n",
       "      <td>0.074642</td>\n",
       "      <td>0.067228</td>\n",
       "      <td>Rock</td>\n",
       "    </tr>\n",
       "    <tr>\n",
       "      <th>2</th>\n",
       "      <td>TRDMMDE128F14A9052</td>\n",
       "      <td>Rock</td>\n",
       "      <td>train</td>\n",
       "      <td>0.063467</td>\n",
       "      <td>0.067342</td>\n",
       "      <td>0.076728</td>\n",
       "      <td>0.063320</td>\n",
       "      <td>0.066982</td>\n",
       "      <td>0.058834</td>\n",
       "      <td>0.085148</td>\n",
       "      <td>0.051309</td>\n",
       "      <td>0.071269</td>\n",
       "      <td>0.066633</td>\n",
       "      <td>0.061744</td>\n",
       "      <td>0.061995</td>\n",
       "      <td>0.062827</td>\n",
       "      <td>0.082274</td>\n",
       "      <td>0.060127</td>\n",
       "      <td>Metal</td>\n",
       "    </tr>\n",
       "    <tr>\n",
       "      <th>3</th>\n",
       "      <td>TRJOPZB128F4250E02</td>\n",
       "      <td>Rock</td>\n",
       "      <td>train</td>\n",
       "      <td>0.067432</td>\n",
       "      <td>0.070425</td>\n",
       "      <td>0.075837</td>\n",
       "      <td>0.062649</td>\n",
       "      <td>0.066678</td>\n",
       "      <td>0.061110</td>\n",
       "      <td>0.069101</td>\n",
       "      <td>0.048971</td>\n",
       "      <td>0.069878</td>\n",
       "      <td>0.066251</td>\n",
       "      <td>0.067812</td>\n",
       "      <td>0.067267</td>\n",
       "      <td>0.064801</td>\n",
       "      <td>0.079591</td>\n",
       "      <td>0.062198</td>\n",
       "      <td>Rock</td>\n",
       "    </tr>\n",
       "    <tr>\n",
       "      <th>4</th>\n",
       "      <td>TRJKBVL128F935567B</td>\n",
       "      <td>Rock</td>\n",
       "      <td>train</td>\n",
       "      <td>0.069807</td>\n",
       "      <td>0.069346</td>\n",
       "      <td>0.077877</td>\n",
       "      <td>0.062047</td>\n",
       "      <td>0.064908</td>\n",
       "      <td>0.057085</td>\n",
       "      <td>0.073004</td>\n",
       "      <td>0.055751</td>\n",
       "      <td>0.067003</td>\n",
       "      <td>0.069341</td>\n",
       "      <td>0.065162</td>\n",
       "      <td>0.065139</td>\n",
       "      <td>0.064550</td>\n",
       "      <td>0.078639</td>\n",
       "      <td>0.060341</td>\n",
       "      <td>Rock</td>\n",
       "    </tr>\n",
       "  </tbody>\n",
       "</table>\n",
       "</div>"
      ],
      "text/plain": [
       "         msd_track_id  genre    set     Blues   Country  Electronic      Folk  \\\n",
       "0  TRABKJU128F422A7FE  Metal  train  0.071384  0.077559    0.071399  0.065290   \n",
       "1  TRBLDQQ128F92E58B4   Rock  train  0.066120  0.074482    0.071812  0.073876   \n",
       "2  TRDMMDE128F14A9052   Rock  train  0.063467  0.067342    0.076728  0.063320   \n",
       "3  TRJOPZB128F4250E02   Rock  train  0.067432  0.070425    0.075837  0.062649   \n",
       "4  TRJKBVL128F935567B   Rock  train  0.069807  0.069346    0.077877  0.062047   \n",
       "\n",
       "       Jazz     Latin     Metal   New Age       Pop      Punk       Rap  \\\n",
       "0  0.056474  0.057201  0.107543  0.006534  0.075655  0.084393  0.060039   \n",
       "1  0.073638  0.065633  0.058644  0.060485  0.073500  0.052563  0.063016   \n",
       "2  0.066982  0.058834  0.085148  0.051309  0.071269  0.066633  0.061744   \n",
       "3  0.066678  0.061110  0.069101  0.048971  0.069878  0.066251  0.067812   \n",
       "4  0.064908  0.057085  0.073004  0.055751  0.067003  0.069341  0.065162   \n",
       "\n",
       "     Reggae       RnB      Rock     World mfcc_genre  \n",
       "0  0.060116  0.057414  0.092916  0.056082      Metal  \n",
       "1  0.056861  0.067499  0.074642  0.067228       Rock  \n",
       "2  0.061995  0.062827  0.082274  0.060127      Metal  \n",
       "3  0.067267  0.064801  0.079591  0.062198       Rock  \n",
       "4  0.065139  0.064550  0.078639  0.060341       Rock  "
      ]
     },
     "execution_count": 96,
     "metadata": {},
     "output_type": "execute_result"
    }
   ],
   "source": [
    "df_final.head()"
   ]
  },
  {
   "cell_type": "code",
   "execution_count": 97,
   "metadata": {},
   "outputs": [],
   "source": [
    "export_csv = df_final.to_csv (r'../data/mfcc_results_adaboost.csv', index = None, header=True)"
   ]
  },
  {
   "cell_type": "code",
   "execution_count": null,
   "metadata": {},
   "outputs": [],
   "source": []
  }
 ],
 "metadata": {
  "kernelspec": {
   "display_name": "Python 3",
   "language": "python",
   "name": "python3"
  },
  "language_info": {
   "codemirror_mode": {
    "name": "ipython",
    "version": 3
   },
   "file_extension": ".py",
   "mimetype": "text/x-python",
   "name": "python",
   "nbconvert_exporter": "python",
   "pygments_lexer": "ipython3",
   "version": "3.7.3"
  }
 },
 "nbformat": 4,
 "nbformat_minor": 4
}
