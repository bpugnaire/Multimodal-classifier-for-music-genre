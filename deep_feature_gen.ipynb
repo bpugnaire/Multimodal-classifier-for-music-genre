{
 "cells": [
  {
   "cell_type": "code",
   "execution_count": 1,
   "metadata": {},
   "outputs": [
    {
     "name": "stderr",
     "output_type": "stream",
     "text": [
      "Using TensorFlow backend.\n"
     ]
    }
   ],
   "source": [
    "import numpy as np\n",
    "import pandas as pd\n",
    "\n",
    "from sklearn.preprocessing import LabelEncoder\n",
    "from sklearn.metrics import roc_auc_score\n",
    "\n",
    "from pathlib import Path\n",
    "from sklearn.metrics import confusion_matrix, plot_confusion_matrix, classification_report\n",
    "from sklearn.feature_extraction import DictVectorizer\n",
    "\n",
    "import keras\n",
    "from keras import Sequential\n",
    "from keras.layers import Dense, Conv1D, BatchNormalization, MaxPooling1D, Dropout, Flatten\n",
    "from keras.utils import to_categorical\n",
    "\n",
    "msdi_path = \"../data/msdi/\""
   ]
  },
  {
   "cell_type": "markdown",
   "metadata": {},
   "source": [
    "# MFCC"
   ]
  },
  {
   "cell_type": "code",
   "execution_count": 2,
   "metadata": {},
   "outputs": [],
   "source": [
    "def load_mfcc(entry, msdi_path):\n",
    "    x = np.load(Path(msdi_path) / entry['mfcc'])\n",
    "    mfcc = x[entry['msd_track_id']]\n",
    "    mfcc = np.mean(mfcc, axis=0)\n",
    "    return(mfcc)"
   ]
  },
  {
   "cell_type": "code",
   "execution_count": 3,
   "metadata": {},
   "outputs": [],
   "source": [
    "df_entry = pd.read_csv(msdi_path+\"msdi_mapping.csv\")\n",
    "df_entry = df_entry.drop([\"Unnamed: 0\"], axis = 1)"
   ]
  },
  {
   "cell_type": "code",
   "execution_count": 4,
   "metadata": {},
   "outputs": [],
   "source": [
    "X = df_entry.apply(lambda entry :\n",
    "                            load_mfcc(entry, msdi_path), \n",
    "                            raw =True,\n",
    "                            result_type='expand',\n",
    "                            axis=1 )"
   ]
  },
  {
   "cell_type": "code",
   "execution_count": 7,
   "metadata": {},
   "outputs": [
    {
     "name": "stdout",
     "output_type": "stream",
     "text": [
      "Classes :  ['Blues' 'Country' 'Electronic' 'Folk' 'Jazz' 'Latin' 'Metal' 'New Age'\n",
      " 'Pop' 'Punk' 'Rap' 'Reggae' 'RnB' 'Rock' 'World'] \n",
      "\n",
      "(30712,)\n"
     ]
    }
   ],
   "source": [
    "label = df_entry['genre'].array\n",
    "# print(label.shape)\n",
    "\n",
    "le = LabelEncoder()\n",
    "le.fit(label)\n",
    "class_names = le.classes_\n",
    "print(\"Classes : \", le.classes_, \"\\n\")\n",
    "y_classes = le.transform(label)\n",
    "\n",
    "print(y_classes.shape)\n",
    "y = to_categorical(y_classes)"
   ]
  },
  {
   "cell_type": "code",
   "execution_count": 8,
   "metadata": {},
   "outputs": [
    {
     "ename": "AttributeError",
     "evalue": "'numpy.ndarray' object has no attribute 'values'",
     "output_type": "error",
     "traceback": [
      "\u001b[0;31m---------------------------------------------------------------------------\u001b[0m",
      "\u001b[0;31mAttributeError\u001b[0m                            Traceback (most recent call last)",
      "\u001b[0;32m<ipython-input-8-6465c6917888>\u001b[0m in \u001b[0;36m<module>\u001b[0;34m\u001b[0m\n\u001b[0;32m----> 1\u001b[0;31m \u001b[0mX\u001b[0m \u001b[0;34m=\u001b[0m \u001b[0mX\u001b[0m\u001b[0;34m.\u001b[0m\u001b[0mvalues\u001b[0m\u001b[0;34m\u001b[0m\u001b[0;34m\u001b[0m\u001b[0m\n\u001b[0m",
      "\u001b[0;31mAttributeError\u001b[0m: 'numpy.ndarray' object has no attribute 'values'"
     ]
    }
   ],
   "source": [
    "X = X.values"
   ]
  },
  {
   "cell_type": "code",
   "execution_count": 35,
   "metadata": {},
   "outputs": [],
   "source": [
    "train_idx = df_entry.index[df_entry['set'] == \"train\"].tolist()\n",
    "test_idx = df_entry.index[df_entry['set'] == \"test\"].tolist()\n",
    "val_idx = df_entry.index[df_entry['set'] == \"val\"].tolist()"
   ]
  },
  {
   "cell_type": "code",
   "execution_count": 42,
   "metadata": {},
   "outputs": [],
   "source": [
    "X_train, y_train = X[train_idx], y[train_idx]\n",
    "X_test, y_test = X[test_idx], y[test_idx]\n",
    "X_val, y_val = X[val_idx], y[val_idx]"
   ]
  },
  {
   "cell_type": "code",
   "execution_count": 37,
   "metadata": {},
   "outputs": [
    {
     "data": {
      "text/plain": [
       "((21383, 12), (21383, 15))"
      ]
     },
     "execution_count": 37,
     "metadata": {},
     "output_type": "execute_result"
    }
   ],
   "source": [
    "X_train.shape, y_train.shape"
   ]
  },
  {
   "cell_type": "code",
   "execution_count": 45,
   "metadata": {},
   "outputs": [],
   "source": [
    "nb_classes = len(le.classes_)\n",
    "nb_features = len(X_train[0])\n",
    "X_train, X_test, X_val = np.expand_dims(X_train, axis=-1), np.expand_dims(X_test, axis=-1), np.expand_dims(X_val, axis=-1)"
   ]
  },
  {
   "cell_type": "code",
   "execution_count": 46,
   "metadata": {},
   "outputs": [
    {
     "data": {
      "text/plain": [
       "((21383, 12, 1), (21383, 15))"
      ]
     },
     "execution_count": 46,
     "metadata": {},
     "output_type": "execute_result"
    }
   ],
   "source": [
    "X_train.shape, y_train.shape"
   ]
  },
  {
   "cell_type": "code",
   "execution_count": 84,
   "metadata": {},
   "outputs": [
    {
     "name": "stdout",
     "output_type": "stream",
     "text": [
      "Model: \"sequential_33\"\n",
      "_________________________________________________________________\n",
      "Layer (type)                 Output Shape              Param #   \n",
      "=================================================================\n",
      "dense_138 (Dense)            (None, 12, 64)            128       \n",
      "_________________________________________________________________\n",
      "dense_139 (Dense)            (None, 12, 128)           8320      \n",
      "_________________________________________________________________\n",
      "dense_140 (Dense)            (None, 12, 256)           33024     \n",
      "_________________________________________________________________\n",
      "flatten_16 (Flatten)         (None, 3072)              0         \n",
      "_________________________________________________________________\n",
      "dense_141 (Dense)            (None, 100)               307300    \n",
      "_________________________________________________________________\n",
      "dense_142 (Dense)            (None, 15)                1515      \n",
      "=================================================================\n",
      "Total params: 350,287\n",
      "Trainable params: 350,287\n",
      "Non-trainable params: 0\n",
      "_________________________________________________________________\n"
     ]
    }
   ],
   "source": [
    "model = Sequential()\n",
    "\n",
    "model.add(Dense(64, input_shape=(nb_features,1)))\n",
    "model.add(Dense(128))\n",
    "model.add(Dense(256))\n",
    "model.add(Flatten())\n",
    "model.add(Dense(100))\n",
    "model.add(Dense(nb_classes, activation='sigmoid'))\n",
    "model.compile(optimizer='adam',\n",
    "              loss='categorical_crossentropy',\n",
    "              metrics=['accuracy'])\n",
    "\n",
    "model.summary()"
   ]
  },
  {
   "cell_type": "code",
   "execution_count": 82,
   "metadata": {
    "scrolled": true
   },
   "outputs": [
    {
     "name": "stdout",
     "output_type": "stream",
     "text": [
      "Train on 21383 samples, validate on 4680 samples\n",
      "Epoch 1/50\n",
      "21383/21383 [==============================] - 3s 161us/step - loss: 1.7822 - accuracy: 0.4048 - val_loss: 1.8729 - val_accuracy: 0.3835\n",
      "Epoch 2/50\n",
      "21383/21383 [==============================] - 3s 156us/step - loss: 1.7746 - accuracy: 0.4047 - val_loss: 1.8806 - val_accuracy: 0.3880\n",
      "Epoch 3/50\n",
      "21383/21383 [==============================] - 3s 157us/step - loss: 1.7766 - accuracy: 0.4092 - val_loss: 1.8555 - val_accuracy: 0.3874\n",
      "Epoch 4/50\n",
      "21383/21383 [==============================] - 3s 158us/step - loss: 1.7771 - accuracy: 0.4047 - val_loss: 1.8626 - val_accuracy: 0.3827\n",
      "Epoch 5/50\n",
      "21383/21383 [==============================] - 4s 165us/step - loss: 1.7729 - accuracy: 0.4103 - val_loss: 1.8420 - val_accuracy: 0.3921\n",
      "Epoch 6/50\n",
      "21383/21383 [==============================] - 3s 157us/step - loss: 1.7657 - accuracy: 0.4125 - val_loss: 1.8512 - val_accuracy: 0.3846\n",
      "Epoch 7/50\n",
      "21383/21383 [==============================] - 3s 157us/step - loss: 1.7657 - accuracy: 0.4107 - val_loss: 1.8512 - val_accuracy: 0.4000\n",
      "Epoch 8/50\n",
      "21383/21383 [==============================] - 3s 162us/step - loss: 1.7615 - accuracy: 0.4122 - val_loss: 1.8793 - val_accuracy: 0.3846\n",
      "Epoch 9/50\n",
      "21383/21383 [==============================] - 3s 161us/step - loss: 1.7640 - accuracy: 0.4114 - val_loss: 1.8511 - val_accuracy: 0.3857\n",
      "Epoch 10/50\n",
      "21383/21383 [==============================] - 4s 170us/step - loss: 1.7639 - accuracy: 0.4107 - val_loss: 1.8502 - val_accuracy: 0.3921\n",
      "Epoch 11/50\n",
      "21383/21383 [==============================] - 4s 166us/step - loss: 1.7592 - accuracy: 0.4125 - val_loss: 1.8354 - val_accuracy: 0.3925\n",
      "Epoch 12/50\n",
      "21383/21383 [==============================] - 4s 164us/step - loss: 1.7579 - accuracy: 0.4119 - val_loss: 1.9143 - val_accuracy: 0.3716\n",
      "Epoch 13/50\n",
      "21383/21383 [==============================] - 4s 170us/step - loss: 1.7568 - accuracy: 0.4136 - val_loss: 1.8440 - val_accuracy: 0.4045\n",
      "Epoch 14/50\n",
      "21383/21383 [==============================] - 4s 166us/step - loss: 1.7544 - accuracy: 0.4136 - val_loss: 1.8395 - val_accuracy: 0.3970\n",
      "Epoch 15/50\n",
      "21383/21383 [==============================] - 4s 169us/step - loss: 1.7549 - accuracy: 0.4104 - val_loss: 1.8333 - val_accuracy: 0.4043\n",
      "Epoch 16/50\n",
      "21383/21383 [==============================] - 4s 176us/step - loss: 1.7552 - accuracy: 0.4123 - val_loss: 1.8401 - val_accuracy: 0.3968\n",
      "Epoch 17/50\n",
      "21383/21383 [==============================] - 4s 172us/step - loss: 1.7514 - accuracy: 0.4109 - val_loss: 1.8450 - val_accuracy: 0.3987\n",
      "Epoch 18/50\n",
      "21383/21383 [==============================] - 4s 172us/step - loss: 1.7532 - accuracy: 0.4151 - val_loss: 1.8445 - val_accuracy: 0.3947\n",
      "Epoch 19/50\n",
      "21383/21383 [==============================] - 4s 174us/step - loss: 1.7510 - accuracy: 0.4135 - val_loss: 1.8776 - val_accuracy: 0.3778\n",
      "Epoch 20/50\n",
      "21383/21383 [==============================] - 4s 175us/step - loss: 1.7488 - accuracy: 0.4146 - val_loss: 1.8416 - val_accuracy: 0.3919\n",
      "Epoch 21/50\n",
      "21383/21383 [==============================] - 4s 207us/step - loss: 1.7480 - accuracy: 0.4166 - val_loss: 1.8332 - val_accuracy: 0.3981\n",
      "Epoch 22/50\n",
      "21383/21383 [==============================] - 4s 199us/step - loss: 1.7526 - accuracy: 0.4158 - val_loss: 1.8328 - val_accuracy: 0.4006\n",
      "Epoch 23/50\n",
      "21383/21383 [==============================] - 4s 177us/step - loss: 1.7530 - accuracy: 0.4131 - val_loss: 1.8416 - val_accuracy: 0.3996\n",
      "Epoch 24/50\n",
      "21383/21383 [==============================] - 4s 178us/step - loss: 1.7481 - accuracy: 0.4154 - val_loss: 1.8467 - val_accuracy: 0.3947\n",
      "Epoch 25/50\n",
      "21383/21383 [==============================] - 4s 179us/step - loss: 1.7504 - accuracy: 0.4147 - val_loss: 1.8988 - val_accuracy: 0.3643\n",
      "Epoch 26/50\n",
      "21383/21383 [==============================] - 4s 182us/step - loss: 1.7527 - accuracy: 0.4134 - val_loss: 1.8152 - val_accuracy: 0.4011\n",
      "Epoch 27/50\n",
      "21383/21383 [==============================] - 4s 176us/step - loss: 1.7459 - accuracy: 0.4151 - val_loss: 1.8138 - val_accuracy: 0.4049\n",
      "Epoch 28/50\n",
      "21383/21383 [==============================] - 4s 176us/step - loss: 1.7471 - accuracy: 0.4142 - val_loss: 1.8191 - val_accuracy: 0.4028\n",
      "Epoch 29/50\n",
      "21383/21383 [==============================] - 4s 190us/step - loss: 1.7480 - accuracy: 0.4160 - val_loss: 1.8239 - val_accuracy: 0.4058\n",
      "Epoch 30/50\n",
      "21383/21383 [==============================] - 4s 192us/step - loss: 1.7468 - accuracy: 0.4187 - val_loss: 1.8282 - val_accuracy: 0.4045\n",
      "Epoch 31/50\n",
      "21383/21383 [==============================] - 4s 202us/step - loss: 1.7462 - accuracy: 0.4174 - val_loss: 1.8229 - val_accuracy: 0.4026\n",
      "Epoch 32/50\n",
      "21383/21383 [==============================] - 5s 211us/step - loss: 1.7418 - accuracy: 0.4175 - val_loss: 1.8135 - val_accuracy: 0.4017\n",
      "Epoch 33/50\n",
      "21383/21383 [==============================] - 5s 254us/step - loss: 1.7440 - accuracy: 0.4185 - val_loss: 1.8410 - val_accuracy: 0.3970\n",
      "Epoch 34/50\n",
      "21383/21383 [==============================] - 6s 293us/step - loss: 1.7452 - accuracy: 0.4162 - val_loss: 1.8363 - val_accuracy: 0.4073\n",
      "Epoch 35/50\n",
      "21383/21383 [==============================] - 6s 275us/step - loss: 1.7430 - accuracy: 0.4182 - val_loss: 1.8531 - val_accuracy: 0.3863\n",
      "Epoch 36/50\n",
      "21383/21383 [==============================] - 4s 209us/step - loss: 1.7435 - accuracy: 0.4169 - val_loss: 1.8196 - val_accuracy: 0.4006\n",
      "Epoch 37/50\n",
      "21383/21383 [==============================] - 4s 198us/step - loss: 1.7469 - accuracy: 0.4156 - val_loss: 1.8305 - val_accuracy: 0.3912\n",
      "Epoch 38/50\n",
      "21383/21383 [==============================] - 6s 265us/step - loss: 1.7435 - accuracy: 0.4165 - val_loss: 1.8335 - val_accuracy: 0.4019\n",
      "Epoch 39/50\n",
      "21383/21383 [==============================] - 6s 299us/step - loss: 1.7411 - accuracy: 0.4174 - val_loss: 1.8153 - val_accuracy: 0.3989\n",
      "Epoch 40/50\n",
      "21383/21383 [==============================] - 5s 249us/step - loss: 1.7420 - accuracy: 0.4206 - val_loss: 1.8203 - val_accuracy: 0.4045\n",
      "Epoch 41/50\n",
      "21383/21383 [==============================] - 5s 211us/step - loss: 1.7417 - accuracy: 0.4163 - val_loss: 1.8329 - val_accuracy: 0.4026\n",
      "Epoch 42/50\n",
      "21383/21383 [==============================] - 5s 231us/step - loss: 1.7418 - accuracy: 0.4151 - val_loss: 1.8210 - val_accuracy: 0.4103\n",
      "Epoch 43/50\n",
      "21383/21383 [==============================] - 5s 235us/step - loss: 1.7444 - accuracy: 0.4196 - val_loss: 1.8114 - val_accuracy: 0.4124\n",
      "Epoch 44/50\n",
      "21383/21383 [==============================] - 5s 241us/step - loss: 1.7431 - accuracy: 0.4170 - val_loss: 1.8151 - val_accuracy: 0.4094\n",
      "Epoch 45/50\n",
      "21383/21383 [==============================] - 4s 210us/step - loss: 1.7398 - accuracy: 0.4188 - val_loss: 1.8466 - val_accuracy: 0.4075\n",
      "Epoch 46/50\n",
      "21383/21383 [==============================] - 5s 233us/step - loss: 1.7416 - accuracy: 0.4153 - val_loss: 1.8378 - val_accuracy: 0.3940\n",
      "Epoch 47/50\n",
      "21383/21383 [==============================] - 5s 244us/step - loss: 1.7452 - accuracy: 0.4143 - val_loss: 1.8151 - val_accuracy: 0.4002\n",
      "Epoch 48/50\n",
      "21383/21383 [==============================] - 4s 204us/step - loss: 1.7419 - accuracy: 0.4180 - val_loss: 1.8298 - val_accuracy: 0.3974\n",
      "Epoch 49/50\n",
      "21383/21383 [==============================] - 5s 237us/step - loss: 1.7375 - accuracy: 0.4182 - val_loss: 1.8153 - val_accuracy: 0.4062\n",
      "Epoch 50/50\n",
      "21383/21383 [==============================] - 5s 218us/step - loss: 1.7388 - accuracy: 0.4197 - val_loss: 1.8321 - val_accuracy: 0.4038\n"
     ]
    }
   ],
   "source": [
    "history = model.fit(X_train, y_train, batch_size=128, shuffle=True, epochs=10, validation_data=(X_val, y_val))"
   ]
  },
  {
   "cell_type": "code",
   "execution_count": 57,
   "metadata": {},
   "outputs": [
    {
     "name": "stdout",
     "output_type": "stream",
     "text": [
      "4649/4649 [==============================] - 1s 214us/step\n"
     ]
    },
    {
     "data": {
      "text/plain": [
       "[1.796231284375395, 0.3904065489768982]"
      ]
     },
     "execution_count": 57,
     "metadata": {},
     "output_type": "execute_result"
    }
   ],
   "source": [
    "model.evaluate(X_test, y_test)"
   ]
  },
  {
   "cell_type": "code",
   "execution_count": 158,
   "metadata": {},
   "outputs": [
    {
     "name": "stdout",
     "output_type": "stream",
     "text": [
      "dict_keys(['val_loss', 'val_accuracy', 'loss', 'accuracy'])\n"
     ]
    },
    {
     "data": {
      "image/png": "[encoded data removed]",
      "text/plain": [
       "<Figure size 432x288 with 1 Axes>"
      ]
     },
     "metadata": {
      "needs_background": "light"
     },
     "output_type": "display_data"
    },
    {
     "data": {
      "image/png": "[encoded data removed]",
      "text/plain": [
       "<Figure size 432x288 with 1 Axes>"
      ]
     },
     "metadata": {
      "needs_background": "light"
     },
     "output_type": "display_data"
    }
   ],
   "source": [
    "import matplotlib.pyplot as plt\n",
    "\n",
    "print(history.history.keys())\n",
    "# summarize history for accuracy\n",
    "plt.plot(history.history['accuracy'])\n",
    "plt.plot(history.history['val_accuracy'])\n",
    "plt.title('model accuracy')\n",
    "plt.ylabel('accuracy')\n",
    "plt.xlabel('epoch')\n",
    "plt.legend(['train', 'test'], loc='upper left')\n",
    "plt.show()\n",
    "# summarize history for loss\n",
    "plt.plot(history.history['loss'])\n",
    "plt.plot(history.history['val_loss'])\n",
    "plt.title('model loss')\n",
    "plt.ylabel('loss')\n",
    "plt.xlabel('epoch')\n",
    "plt.legend(['train', 'test'], loc='upper left')\n",
    "plt.show()"
   ]
  },
  {
   "cell_type": "code",
   "execution_count": 89,
   "metadata": {},
   "outputs": [
    {
     "name": "stdout",
     "output_type": "stream",
     "text": [
      "Model: \"model_3\"\n",
      "_________________________________________________________________\n",
      "Layer (type)                 Output Shape              Param #   \n",
      "=================================================================\n",
      "dense_138_input (InputLayer) (None, 12, 1)             0         \n",
      "_________________________________________________________________\n",
      "dense_138 (Dense)            (None, 12, 64)            128       \n",
      "_________________________________________________________________\n",
      "dense_139 (Dense)            (None, 12, 128)           8320      \n",
      "_________________________________________________________________\n",
      "dense_140 (Dense)            (None, 12, 256)           33024     \n",
      "_________________________________________________________________\n",
      "flatten_16 (Flatten)         (None, 3072)              0         \n",
      "_________________________________________________________________\n",
      "dense_141 (Dense)            (None, 100)               307300    \n",
      "=================================================================\n",
      "Total params: 348,772\n",
      "Trainable params: 348,772\n",
      "Non-trainable params: 0\n",
      "_________________________________________________________________\n"
     ]
    }
   ],
   "source": [
    "model._layers.pop()\n",
    "model2 = keras.Model(model.input, model.layers[-1].output)\n",
    "model2.summary()"
   ]
  },
  {
   "cell_type": "code",
   "execution_count": 91,
   "metadata": {},
   "outputs": [],
   "source": [
    "model2.compile(optimizer='adam',\n",
    "              loss='categorical_crossentropy',\n",
    "              metrics=['accuracy'])"
   ]
  },
  {
   "cell_type": "code",
   "execution_count": 94,
   "metadata": {},
   "outputs": [
    {
     "name": "stdout",
     "output_type": "stream",
     "text": [
      "(30712, 100)\n"
     ]
    }
   ],
   "source": [
    "Y_latent = model2.predict(np.expand_dims(X, axis=-1))\n",
    "print(Y_latent.shape)\n"
   ]
  },
  {
   "cell_type": "code",
   "execution_count": 95,
   "metadata": {},
   "outputs": [],
   "source": [
    "df_proba = pd.DataFrame(data = Y_latent)\n",
    "df_final = df_entry.join(df_proba)"
   ]
  },
  {
   "cell_type": "code",
   "execution_count": 96,
   "metadata": {},
   "outputs": [],
   "source": [
    "df_final.drop(['album_index',\n",
    "       'msd_artist_id', 'image_url', 'img', 'mfcc', 'deep_features'], axis=1, inplace=True)"
   ]
  },
  {
   "cell_type": "code",
   "execution_count": 98,
   "metadata": {},
   "outputs": [],
   "source": [
    "export_csv = df_final.to_csv (r'../data/mfcc_latent.csv', index = None, header=True)"
   ]
  },
  {
   "cell_type": "code",
   "execution_count": null,
   "metadata": {},
   "outputs": [],
   "source": []
  },
  {
   "cell_type": "markdown",
   "metadata": {},
   "source": [
    "# Deep Audio"
   ]
  },
  {
   "cell_type": "code",
   "execution_count": 99,
   "metadata": {},
   "outputs": [],
   "source": [
    "def load_deep_audio_features(entry, msdi_path, X_train,X_val,X_test ):\n",
    "    data_set = entry['set']\n",
    "    idx = entry['deep_features']\n",
    "    if data_set == 'train':\n",
    "        return X_train[idx, :].tolist()\n",
    "    if data_set == 'val':\n",
    "        return X_val[idx,:].tolist()\n",
    "    else:\n",
    "        return X_test[idx,:].tolist()"
   ]
  },
  {
   "cell_type": "code",
   "execution_count": 100,
   "metadata": {},
   "outputs": [],
   "source": [
    "df_entry = pd.read_csv(msdi_path+\"msdi_mapping.csv\")\n",
    "df_entry = df_entry.drop([\"Unnamed: 0\"], axis = 1)"
   ]
  },
  {
   "cell_type": "code",
   "execution_count": 101,
   "metadata": {},
   "outputs": [],
   "source": [
    "X_train = np.load(msdi_path + \"deep_features/X_train_audio_MSD-I.npy\")\n",
    "X_val = np.load(msdi_path + \"deep_features/X_val_audio_MSD-I.npy\")\n",
    "X_test = np.load(msdi_path + \"deep_features/X_test_audio_MSD-I.npy\")"
   ]
  },
  {
   "cell_type": "code",
   "execution_count": 102,
   "metadata": {},
   "outputs": [],
   "source": [
    "train_idx = df_entry.index[df_entry['set'] == \"train\"].tolist()\n",
    "test_idx = df_entry.index[df_entry['set'] == \"test\"].tolist()\n",
    "val_idx = df_entry.index[df_entry['set'] == \"val\"].tolist()"
   ]
  },
  {
   "cell_type": "code",
   "execution_count": 103,
   "metadata": {},
   "outputs": [],
   "source": [
    "X = df_entry.apply(lambda entry :\n",
    "                            load_deep_audio_features(entry, msdi_path, X_train, X_val, X_test), \n",
    "                            raw =True,\n",
    "                            result_type='expand',\n",
    "                            axis=1 )"
   ]
  },
  {
   "cell_type": "code",
   "execution_count": 104,
   "metadata": {},
   "outputs": [
    {
     "name": "stdout",
     "output_type": "stream",
     "text": [
      "Classes :  ['Blues' 'Country' 'Electronic' 'Folk' 'Jazz' 'Latin' 'Metal' 'New Age'\n",
      " 'Pop' 'Punk' 'Rap' 'Reggae' 'RnB' 'Rock' 'World'] \n",
      "\n",
      "(30712,)\n"
     ]
    }
   ],
   "source": [
    "label = df_entry['genre'].array\n",
    "# print(label.shape)\n",
    "\n",
    "le = LabelEncoder()\n",
    "le.fit(label)\n",
    "class_names = le.classes_\n",
    "print(\"Classes : \", le.classes_, \"\\n\")\n",
    "y_classes = le.transform(label)\n",
    "\n",
    "print( y_classes.shape)\n",
    "y = to_categorical(y_classes)"
   ]
  },
  {
   "cell_type": "code",
   "execution_count": 105,
   "metadata": {},
   "outputs": [],
   "source": [
    "X =  X.values\n",
    "X_train, y_train = X[train_idx], y[train_idx]\n",
    "X_test, y_test = X[test_idx], y[test_idx]\n",
    "X_val, y_val = X[val_idx], y[val_idx]"
   ]
  },
  {
   "cell_type": "code",
   "execution_count": 106,
   "metadata": {},
   "outputs": [],
   "source": [
    "nb_classes = len(le.classes_)\n",
    "nb_features = len(X_train[0])\n",
    "X_train, X_test, X_val = np.expand_dims(X_train, axis=-1), np.expand_dims(X_test, axis=-1), np.expand_dims(X_val, axis=-1)"
   ]
  },
  {
   "cell_type": "code",
   "execution_count": 107,
   "metadata": {},
   "outputs": [
    {
     "data": {
      "text/plain": [
       "((21383, 2048, 1), (21383, 15))"
      ]
     },
     "execution_count": 107,
     "metadata": {},
     "output_type": "execute_result"
    }
   ],
   "source": [
    "X_train.shape, y_train.shape"
   ]
  },
  {
   "cell_type": "code",
   "execution_count": 124,
   "metadata": {},
   "outputs": [
    {
     "name": "stdout",
     "output_type": "stream",
     "text": [
      "Model: \"sequential_45\"\n",
      "_________________________________________________________________\n",
      "Layer (type)                 Output Shape              Param #   \n",
      "=================================================================\n",
      "dense_190 (Dense)            (None, 2048, 32)          64        \n",
      "_________________________________________________________________\n",
      "dense_191 (Dense)            (None, 2048, 16)          528       \n",
      "_________________________________________________________________\n",
      "flatten_27 (Flatten)         (None, 32768)             0         \n",
      "_________________________________________________________________\n",
      "dense_192 (Dense)            (None, 16)                524304    \n",
      "_________________________________________________________________\n",
      "dense_193 (Dense)            (None, 100)               1700      \n",
      "_________________________________________________________________\n",
      "dense_194 (Dense)            (None, 15)                1515      \n",
      "=================================================================\n",
      "Total params: 528,111\n",
      "Trainable params: 528,111\n",
      "Non-trainable params: 0\n",
      "_________________________________________________________________\n"
     ]
    }
   ],
   "source": [
    "model = Sequential()\n",
    "\n",
    "\n",
    "model.add(Dense(32,input_shape=(nb_features,1)))\n",
    "model.add(Dense(16))\n",
    "model.add(Flatten())\n",
    "model.add(Dense(16))\n",
    "\n",
    "model.add(Dense(100))\n",
    "model.add(Dense(nb_classes, activation='sigmoid'))\n",
    "model.compile(optimizer='adam',\n",
    "              loss='categorical_crossentropy',\n",
    "              metrics=['accuracy'])\n",
    "\n",
    "model.summary()"
   ]
  },
  {
   "cell_type": "code",
   "execution_count": 125,
   "metadata": {},
   "outputs": [
    {
     "name": "stdout",
     "output_type": "stream",
     "text": [
      "Train on 21383 samples, validate on 4680 samples\n",
      "Epoch 1/3\n",
      "21383/21383 [==============================] - 18s 836us/step - loss: 1.6386 - accuracy: 0.4746 - val_loss: 1.6838 - val_accuracy: 0.4566\n",
      "Epoch 2/3\n",
      "21383/21383 [==============================] - 18s 822us/step - loss: 1.4436 - accuracy: 0.5327 - val_loss: 1.6765 - val_accuracy: 0.4650\n",
      "Epoch 3/3\n",
      "21383/21383 [==============================] - 18s 827us/step - loss: 1.4170 - accuracy: 0.5383 - val_loss: 1.6431 - val_accuracy: 0.4705\n"
     ]
    }
   ],
   "source": [
    "history = model.fit(X_train, y_train, batch_size=128, shuffle=True, epochs=3, validation_data=(X_val, y_val))"
   ]
  },
  {
   "cell_type": "code",
   "execution_count": 126,
   "metadata": {},
   "outputs": [
    {
     "name": "stdout",
     "output_type": "stream",
     "text": [
      "Model: \"model_5\"\n",
      "_________________________________________________________________\n",
      "Layer (type)                 Output Shape              Param #   \n",
      "=================================================================\n",
      "dense_190_input (InputLayer) (None, 2048, 1)           0         \n",
      "_________________________________________________________________\n",
      "dense_190 (Dense)            (None, 2048, 32)          64        \n",
      "_________________________________________________________________\n",
      "dense_191 (Dense)            (None, 2048, 16)          528       \n",
      "_________________________________________________________________\n",
      "flatten_27 (Flatten)         (None, 32768)             0         \n",
      "_________________________________________________________________\n",
      "dense_192 (Dense)            (None, 16)                524304    \n",
      "_________________________________________________________________\n",
      "dense_193 (Dense)            (None, 100)               1700      \n",
      "=================================================================\n",
      "Total params: 526,596\n",
      "Trainable params: 526,596\n",
      "Non-trainable params: 0\n",
      "_________________________________________________________________\n"
     ]
    }
   ],
   "source": [
    "model._layers.pop()\n",
    "model2 = keras.Model(model.input, model.layers[-1].output)\n",
    "model2.summary()"
   ]
  },
  {
   "cell_type": "code",
   "execution_count": 127,
   "metadata": {},
   "outputs": [
    {
     "name": "stdout",
     "output_type": "stream",
     "text": [
      "(30712, 100)\n"
     ]
    }
   ],
   "source": [
    "Y_latent = model2.predict(np.expand_dims(X, axis=-1))\n",
    "print(Y_latent.shape)"
   ]
  },
  {
   "cell_type": "code",
   "execution_count": 128,
   "metadata": {},
   "outputs": [],
   "source": [
    "df_proba = pd.DataFrame(data = Y_latent)\n",
    "df_final = df_entry.join(df_proba)"
   ]
  },
  {
   "cell_type": "code",
   "execution_count": 129,
   "metadata": {},
   "outputs": [],
   "source": [
    "df_final.drop(['album_index',\n",
    "       'msd_artist_id', 'image_url', 'img', 'mfcc', 'deep_features'], axis=1, inplace=True)"
   ]
  },
  {
   "cell_type": "code",
   "execution_count": 130,
   "metadata": {},
   "outputs": [],
   "source": [
    "export_csv = df_final.to_csv (r'../data/deep_audio_latent.csv', index = None, header=True)"
   ]
  },
  {
   "cell_type": "markdown",
   "metadata": {},
   "source": [
    "# Bag of Word"
   ]
  },
  {
   "cell_type": "code",
   "execution_count": 2,
   "metadata": {},
   "outputs": [],
   "source": [
    "df_bow = pd.read_csv('../data/msx_lyrics_genre.txt',  sep=\"|\", names=['A'])"
   ]
  },
  {
   "cell_type": "code",
   "execution_count": 3,
   "metadata": {},
   "outputs": [
    {
     "data": {
      "text/html": [
       "<div>\n",
       "<style scoped>\n",
       "    .dataframe tbody tr th:only-of-type {\n",
       "        vertical-align: middle;\n",
       "    }\n",
       "\n",
       "    .dataframe tbody tr th {\n",
       "        vertical-align: top;\n",
       "    }\n",
       "\n",
       "    .dataframe thead th {\n",
       "        text-align: right;\n",
       "    }\n",
       "</style>\n",
       "<table border=\"1\" class=\"dataframe\">\n",
       "  <thead>\n",
       "    <tr style=\"text-align: right;\">\n",
       "      <th></th>\n",
       "      <th>msd_track_id</th>\n",
       "      <th>genre</th>\n",
       "      <th>bow</th>\n",
       "    </tr>\n",
       "  </thead>\n",
       "  <tbody>\n",
       "    <tr>\n",
       "      <th>0</th>\n",
       "      <td>TRAAAHZ128E0799171</td>\n",
       "      <td>Rap</td>\n",
       "      <td>{'1': 39, '2': 30, '3': 10, '4': 10, '5': 28, ...</td>\n",
       "    </tr>\n",
       "    <tr>\n",
       "      <th>1</th>\n",
       "      <td>TRAACER128F4290F96</td>\n",
       "      <td>Metal</td>\n",
       "      <td>{'1': 4, '2': 11, '3': 19, '4': 4, '5': 4, '6'...</td>\n",
       "    </tr>\n",
       "    <tr>\n",
       "      <th>2</th>\n",
       "      <td>TRAADYB128F92D7E73</td>\n",
       "      <td>Jazz</td>\n",
       "      <td>{'1': 23, '2': 18, '3': 31, '5': 4, '7': 3, '8...</td>\n",
       "    </tr>\n",
       "    <tr>\n",
       "      <th>3</th>\n",
       "      <td>TRAAEJV128F423CF04</td>\n",
       "      <td>Pop</td>\n",
       "      <td>{'1': 11, '3': 19, '6': 3, '7': 1, '10': 1, '1...</td>\n",
       "    </tr>\n",
       "    <tr>\n",
       "      <th>4</th>\n",
       "      <td>TRAAERZ128F1496921</td>\n",
       "      <td>Reggae</td>\n",
       "      <td>{'1': 13, '2': 12, '3': 9, '4': 3, '5': 13, '6...</td>\n",
       "    </tr>\n",
       "  </tbody>\n",
       "</table>\n",
       "</div>"
      ],
      "text/plain": [
       "         msd_track_id   genre  \\\n",
       "0  TRAAAHZ128E0799171     Rap   \n",
       "1  TRAACER128F4290F96   Metal   \n",
       "2  TRAADYB128F92D7E73    Jazz   \n",
       "3  TRAAEJV128F423CF04     Pop   \n",
       "4  TRAAERZ128F1496921  Reggae   \n",
       "\n",
       "                                                 bow  \n",
       "0  {'1': 39, '2': 30, '3': 10, '4': 10, '5': 28, ...  \n",
       "1  {'1': 4, '2': 11, '3': 19, '4': 4, '5': 4, '6'...  \n",
       "2  {'1': 23, '2': 18, '3': 31, '5': 4, '7': 3, '8...  \n",
       "3  {'1': 11, '3': 19, '6': 3, '7': 1, '10': 1, '1...  \n",
       "4  {'1': 13, '2': 12, '3': 9, '4': 3, '5': 13, '6...  "
      ]
     },
     "execution_count": 3,
     "metadata": {},
     "output_type": "execute_result"
    }
   ],
   "source": [
    "cols = [\"msd_track_id\", \"genre\", \"bow\"]\n",
    "df_bow[cols] = df_bow.A.str.split(' ', n=2, expand=True)\n",
    "df_bow.drop('A', axis=1, inplace=True)\n",
    "df_bow['bow'] = df_bow['bow'].apply(lambda bow : dict([el.split(':') for el in bow.split(' ') if el!=\"\"]))\n",
    "df_bow['bow'] = df_bow['bow'].apply(lambda bow : dict([a, int(x)] for a, x in bow.items()))\n",
    "df_bow.head()"
   ]
  },
  {
   "cell_type": "code",
   "execution_count": 4,
   "metadata": {},
   "outputs": [
    {
     "data": {
      "text/html": [
       "<div>\n",
       "<style scoped>\n",
       "    .dataframe tbody tr th:only-of-type {\n",
       "        vertical-align: middle;\n",
       "    }\n",
       "\n",
       "    .dataframe tbody tr th {\n",
       "        vertical-align: top;\n",
       "    }\n",
       "\n",
       "    .dataframe thead th {\n",
       "        text-align: right;\n",
       "    }\n",
       "</style>\n",
       "<table border=\"1\" class=\"dataframe\">\n",
       "  <thead>\n",
       "    <tr style=\"text-align: right;\">\n",
       "      <th></th>\n",
       "      <th>msd_track_id</th>\n",
       "      <th>set</th>\n",
       "    </tr>\n",
       "  </thead>\n",
       "  <tbody>\n",
       "    <tr>\n",
       "      <th>0</th>\n",
       "      <td>TRABKJU128F422A7FE</td>\n",
       "      <td>train</td>\n",
       "    </tr>\n",
       "    <tr>\n",
       "      <th>1</th>\n",
       "      <td>TRBLDQQ128F92E58B4</td>\n",
       "      <td>train</td>\n",
       "    </tr>\n",
       "    <tr>\n",
       "      <th>2</th>\n",
       "      <td>TRDMMDE128F14A9052</td>\n",
       "      <td>train</td>\n",
       "    </tr>\n",
       "    <tr>\n",
       "      <th>3</th>\n",
       "      <td>TRJOPZB128F4250E02</td>\n",
       "      <td>train</td>\n",
       "    </tr>\n",
       "    <tr>\n",
       "      <th>4</th>\n",
       "      <td>TRJKBVL128F935567B</td>\n",
       "      <td>train</td>\n",
       "    </tr>\n",
       "  </tbody>\n",
       "</table>\n",
       "</div>"
      ],
      "text/plain": [
       "         msd_track_id    set\n",
       "0  TRABKJU128F422A7FE  train\n",
       "1  TRBLDQQ128F92E58B4  train\n",
       "2  TRDMMDE128F14A9052  train\n",
       "3  TRJOPZB128F4250E02  train\n",
       "4  TRJKBVL128F935567B  train"
      ]
     },
     "execution_count": 4,
     "metadata": {},
     "output_type": "execute_result"
    }
   ],
   "source": [
    "df_mapping = pd.read_csv(\"../data/msdi/msdi_mapping.csv\")\n",
    "df_mapping.drop(['Unnamed: 0', 'genre', 'album_index',\n",
    "       'msd_artist_id', 'image_url', 'img', 'mfcc', 'deep_features'], axis=1, inplace=True)\n",
    "df_mapping.head()"
   ]
  },
  {
   "cell_type": "code",
   "execution_count": 5,
   "metadata": {},
   "outputs": [
    {
     "data": {
      "text/html": [
       "<div>\n",
       "<style scoped>\n",
       "    .dataframe tbody tr th:only-of-type {\n",
       "        vertical-align: middle;\n",
       "    }\n",
       "\n",
       "    .dataframe tbody tr th {\n",
       "        vertical-align: top;\n",
       "    }\n",
       "\n",
       "    .dataframe thead th {\n",
       "        text-align: right;\n",
       "    }\n",
       "</style>\n",
       "<table border=\"1\" class=\"dataframe\">\n",
       "  <thead>\n",
       "    <tr style=\"text-align: right;\">\n",
       "      <th></th>\n",
       "      <th>msd_track_id</th>\n",
       "      <th>genre</th>\n",
       "      <th>bow</th>\n",
       "      <th>set</th>\n",
       "    </tr>\n",
       "  </thead>\n",
       "  <tbody>\n",
       "    <tr>\n",
       "      <th>0</th>\n",
       "      <td>TRAAAHZ128E0799171</td>\n",
       "      <td>Rap</td>\n",
       "      <td>{'1': 39, '2': 30, '3': 10, '4': 10, '5': 28, ...</td>\n",
       "      <td>train</td>\n",
       "    </tr>\n",
       "    <tr>\n",
       "      <th>1</th>\n",
       "      <td>TRAACER128F4290F96</td>\n",
       "      <td>Metal</td>\n",
       "      <td>{'1': 4, '2': 11, '3': 19, '4': 4, '5': 4, '6'...</td>\n",
       "      <td>train</td>\n",
       "    </tr>\n",
       "    <tr>\n",
       "      <th>2</th>\n",
       "      <td>TRAADYB128F92D7E73</td>\n",
       "      <td>Jazz</td>\n",
       "      <td>{'1': 23, '2': 18, '3': 31, '5': 4, '7': 3, '8...</td>\n",
       "      <td>train</td>\n",
       "    </tr>\n",
       "    <tr>\n",
       "      <th>3</th>\n",
       "      <td>TRAAEJV128F423CF04</td>\n",
       "      <td>Pop</td>\n",
       "      <td>{'1': 11, '3': 19, '6': 3, '7': 1, '10': 1, '1...</td>\n",
       "      <td>val</td>\n",
       "    </tr>\n",
       "    <tr>\n",
       "      <th>4</th>\n",
       "      <td>TRAAERZ128F1496921</td>\n",
       "      <td>Reggae</td>\n",
       "      <td>{'1': 13, '2': 12, '3': 9, '4': 3, '5': 13, '6...</td>\n",
       "      <td>val</td>\n",
       "    </tr>\n",
       "  </tbody>\n",
       "</table>\n",
       "</div>"
      ],
      "text/plain": [
       "         msd_track_id   genre  \\\n",
       "0  TRAAAHZ128E0799171     Rap   \n",
       "1  TRAACER128F4290F96   Metal   \n",
       "2  TRAADYB128F92D7E73    Jazz   \n",
       "3  TRAAEJV128F423CF04     Pop   \n",
       "4  TRAAERZ128F1496921  Reggae   \n",
       "\n",
       "                                                 bow    set  \n",
       "0  {'1': 39, '2': 30, '3': 10, '4': 10, '5': 28, ...  train  \n",
       "1  {'1': 4, '2': 11, '3': 19, '4': 4, '5': 4, '6'...  train  \n",
       "2  {'1': 23, '2': 18, '3': 31, '5': 4, '7': 3, '8...  train  \n",
       "3  {'1': 11, '3': 19, '6': 3, '7': 1, '10': 1, '1...    val  \n",
       "4  {'1': 13, '2': 12, '3': 9, '4': 3, '5': 13, '6...    val  "
      ]
     },
     "execution_count": 5,
     "metadata": {},
     "output_type": "execute_result"
    }
   ],
   "source": [
    "df_bow = pd.merge(df_bow, df_mapping, on=\"msd_track_id\")\n",
    "df_bow.head()"
   ]
  },
  {
   "cell_type": "code",
   "execution_count": 6,
   "metadata": {},
   "outputs": [
    {
     "name": "stdout",
     "output_type": "stream",
     "text": [
      "(14750, 5000)\n"
     ]
    }
   ],
   "source": [
    "v = DictVectorizer(sparse=False)\n",
    "X = v.fit_transform(df_bow[\"bow\"])\n",
    "\n",
    "print(X.shape)"
   ]
  },
  {
   "cell_type": "code",
   "execution_count": 7,
   "metadata": {},
   "outputs": [],
   "source": [
    "train_idx = df_bow.index[df_bow['set'] == \"train\"].tolist()\n",
    "test_idx = df_bow.index[df_bow['set'] == \"test\"].tolist()\n",
    "val_idx = df_bow.index[df_bow['set'] == \"val\"].tolist()\n"
   ]
  },
  {
   "cell_type": "code",
   "execution_count": 8,
   "metadata": {},
   "outputs": [
    {
     "name": "stdout",
     "output_type": "stream",
     "text": [
      "Classes :  ['Blues' 'Country' 'Electronic' 'Folk' 'Jazz' 'Latin' 'Metal' 'New_Age'\n",
      " 'Pop' 'Punk' 'Rap' 'Reggae' 'RnB' 'Rock' 'World'] \n",
      "\n",
      "(14750,)\n"
     ]
    }
   ],
   "source": [
    "label = df_bow['genre'].array\n",
    "# print(label.shape)\n",
    "\n",
    "le = LabelEncoder()\n",
    "le.fit(label)\n",
    "class_names = le.classes_\n",
    "print(\"Classes : \", le.classes_, \"\\n\")\n",
    "y_classes = le.transform(label)\n",
    "\n",
    "print( y_classes.shape)\n",
    "y = to_categorical(y_classes)"
   ]
  },
  {
   "cell_type": "code",
   "execution_count": 9,
   "metadata": {},
   "outputs": [],
   "source": [
    "X_train, y_train = X[train_idx], y[train_idx]\n",
    "X_test, y_test = X[test_idx], y[test_idx]\n",
    "X_val, y_val = X[val_idx], y[val_idx]"
   ]
  },
  {
   "cell_type": "code",
   "execution_count": 10,
   "metadata": {},
   "outputs": [],
   "source": [
    "nb_classes = len(le.classes_)\n",
    "nb_features = len(X_train[0])\n",
    "#X_train, X_test, X_val = np.expand_dims(X_train, axis=-1), np.expand_dims(X_test, axis=-1), np.expand_dims(X_val, axis=-1)"
   ]
  },
  {
   "cell_type": "code",
   "execution_count": 11,
   "metadata": {},
   "outputs": [
    {
     "data": {
      "text/plain": [
       "((10340, 5000), (10340, 15))"
      ]
     },
     "execution_count": 11,
     "metadata": {},
     "output_type": "execute_result"
    }
   ],
   "source": [
    "X_train.shape, y_train.shape"
   ]
  },
  {
   "cell_type": "code",
   "execution_count": 12,
   "metadata": {},
   "outputs": [
    {
     "name": "stdout",
     "output_type": "stream",
     "text": [
      "Model: \"sequential_1\"\n",
      "_________________________________________________________________\n",
      "Layer (type)                 Output Shape              Param #   \n",
      "=================================================================\n",
      "dense_1 (Dense)              (None, 32)                160032    \n",
      "_________________________________________________________________\n",
      "batch_normalization_1 (Batch (None, 32)                128       \n",
      "_________________________________________________________________\n",
      "dense_2 (Dense)              (None, 100)               3300      \n",
      "_________________________________________________________________\n",
      "dense_3 (Dense)              (None, 15)                1515      \n",
      "=================================================================\n",
      "Total params: 164,975\n",
      "Trainable params: 164,911\n",
      "Non-trainable params: 64\n",
      "_________________________________________________________________\n"
     ]
    }
   ],
   "source": [
    "model = Sequential()\n",
    "\n",
    "\n",
    "model.add(Dense(32,input_dim=(nb_features)))\n",
    "model.add(BatchNormalization())\n",
    "model.add(Dense(100))\n",
    "model.add(Dense(nb_classes, activation='sigmoid'))\n",
    "model.compile(optimizer='adam',\n",
    "              loss='categorical_crossentropy',\n",
    "              metrics=['accuracy'])\n",
    "\n",
    "model.summary()"
   ]
  },
  {
   "cell_type": "code",
   "execution_count": 13,
   "metadata": {},
   "outputs": [
    {
     "name": "stdout",
     "output_type": "stream",
     "text": [
      "Train on 10340 samples, validate on 2298 samples\n",
      "Epoch 1/5\n",
      "10340/10340 [==============================] - 2s 191us/step - loss: 2.3880 - accuracy: 0.3212 - val_loss: 2.2544 - val_accuracy: 0.3333\n",
      "Epoch 2/5\n",
      "10340/10340 [==============================] - 1s 96us/step - loss: 1.9095 - accuracy: 0.4273 - val_loss: 1.9459 - val_accuracy: 0.3486\n",
      "Epoch 3/5\n",
      "10340/10340 [==============================] - 1s 94us/step - loss: 1.5277 - accuracy: 0.4362 - val_loss: 2.0278 - val_accuracy: 0.3468\n",
      "Epoch 4/5\n",
      "10340/10340 [==============================] - 1s 103us/step - loss: 1.2412 - accuracy: 0.5398 - val_loss: 2.1614 - val_accuracy: 0.3847\n",
      "Epoch 5/5\n",
      "10340/10340 [==============================] - 1s 98us/step - loss: 1.0101 - accuracy: 0.6256 - val_loss: 2.3677 - val_accuracy: 0.3786\n"
     ]
    }
   ],
   "source": [
    "history = model.fit(X_train, y_train, batch_size=128, epochs=5, validation_data=(X_val, y_val))"
   ]
  },
  {
   "cell_type": "code",
   "execution_count": 14,
   "metadata": {},
   "outputs": [
    {
     "name": "stdout",
     "output_type": "stream",
     "text": [
      "Model: \"model_1\"\n",
      "_________________________________________________________________\n",
      "Layer (type)                 Output Shape              Param #   \n",
      "=================================================================\n",
      "dense_1_input (InputLayer)   (None, 5000)              0         \n",
      "_________________________________________________________________\n",
      "dense_1 (Dense)              (None, 32)                160032    \n",
      "_________________________________________________________________\n",
      "batch_normalization_1 (Batch (None, 32)                128       \n",
      "_________________________________________________________________\n",
      "dense_2 (Dense)              (None, 100)               3300      \n",
      "=================================================================\n",
      "Total params: 163,460\n",
      "Trainable params: 163,396\n",
      "Non-trainable params: 64\n",
      "_________________________________________________________________\n"
     ]
    }
   ],
   "source": [
    "model._layers.pop()\n",
    "model2 = keras.Model(model.input, model.layers[-1].output)\n",
    "model2.summary()"
   ]
  },
  {
   "cell_type": "code",
   "execution_count": 15,
   "metadata": {},
   "outputs": [
    {
     "name": "stdout",
     "output_type": "stream",
     "text": [
      "(14750, 100)\n"
     ]
    }
   ],
   "source": [
    "Y_latent = model2.predict(X)\n",
    "print(Y_latent.shape)"
   ]
  },
  {
   "cell_type": "code",
   "execution_count": 16,
   "metadata": {},
   "outputs": [],
   "source": [
    "df_proba = pd.DataFrame(data = Y_latent)\n",
    "df_final = df_bow.join(df_proba)"
   ]
  },
  {
   "cell_type": "code",
   "execution_count": 19,
   "metadata": {},
   "outputs": [],
   "source": [
    "df_final = df_final.drop(\"bow\", axis = 1)"
   ]
  },
  {
   "cell_type": "code",
   "execution_count": 21,
   "metadata": {},
   "outputs": [],
   "source": [
    "export_csv = df_final.to_csv (r'../data/bow_latent.csv', index = None, header=True)"
   ]
  },
  {
   "cell_type": "code",
   "execution_count": null,
   "metadata": {},
   "outputs": [],
   "source": []
  },
  {
   "cell_type": "code",
   "execution_count": 20,
   "metadata": {},
   "outputs": [
    {
     "data": {
      "text/html": [
       "<div>\n",
       "<style scoped>\n",
       "    .dataframe tbody tr th:only-of-type {\n",
       "        vertical-align: middle;\n",
       "    }\n",
       "\n",
       "    .dataframe tbody tr th {\n",
       "        vertical-align: top;\n",
       "    }\n",
       "\n",
       "    .dataframe thead th {\n",
       "        text-align: right;\n",
       "    }\n",
       "</style>\n",
       "<table border=\"1\" class=\"dataframe\">\n",
       "  <thead>\n",
       "    <tr style=\"text-align: right;\">\n",
       "      <th></th>\n",
       "      <th>msd_track_id</th>\n",
       "      <th>genre</th>\n",
       "      <th>set</th>\n",
       "      <th>0</th>\n",
       "      <th>1</th>\n",
       "      <th>2</th>\n",
       "      <th>3</th>\n",
       "      <th>4</th>\n",
       "      <th>5</th>\n",
       "      <th>6</th>\n",
       "      <th>...</th>\n",
       "      <th>90</th>\n",
       "      <th>91</th>\n",
       "      <th>92</th>\n",
       "      <th>93</th>\n",
       "      <th>94</th>\n",
       "      <th>95</th>\n",
       "      <th>96</th>\n",
       "      <th>97</th>\n",
       "      <th>98</th>\n",
       "      <th>99</th>\n",
       "    </tr>\n",
       "  </thead>\n",
       "  <tbody>\n",
       "    <tr>\n",
       "      <th>0</th>\n",
       "      <td>TRAAAHZ128E0799171</td>\n",
       "      <td>Rap</td>\n",
       "      <td>train</td>\n",
       "      <td>-2.067585</td>\n",
       "      <td>2.651733</td>\n",
       "      <td>3.320567</td>\n",
       "      <td>0.084567</td>\n",
       "      <td>0.150504</td>\n",
       "      <td>-2.050568</td>\n",
       "      <td>0.975501</td>\n",
       "      <td>...</td>\n",
       "      <td>-3.452422</td>\n",
       "      <td>1.678107</td>\n",
       "      <td>1.147188</td>\n",
       "      <td>3.000128</td>\n",
       "      <td>-2.506208</td>\n",
       "      <td>-1.890682</td>\n",
       "      <td>0.423336</td>\n",
       "      <td>-1.765437</td>\n",
       "      <td>0.097919</td>\n",
       "      <td>-1.165544</td>\n",
       "    </tr>\n",
       "    <tr>\n",
       "      <th>1</th>\n",
       "      <td>TRAACER128F4290F96</td>\n",
       "      <td>Metal</td>\n",
       "      <td>train</td>\n",
       "      <td>-1.510375</td>\n",
       "      <td>-0.630707</td>\n",
       "      <td>0.881289</td>\n",
       "      <td>-0.207258</td>\n",
       "      <td>0.062911</td>\n",
       "      <td>0.168616</td>\n",
       "      <td>1.256322</td>\n",
       "      <td>...</td>\n",
       "      <td>-1.468447</td>\n",
       "      <td>0.982858</td>\n",
       "      <td>-1.308412</td>\n",
       "      <td>1.714285</td>\n",
       "      <td>-1.445258</td>\n",
       "      <td>-0.254049</td>\n",
       "      <td>1.792565</td>\n",
       "      <td>-1.714414</td>\n",
       "      <td>1.096439</td>\n",
       "      <td>-1.839709</td>\n",
       "    </tr>\n",
       "    <tr>\n",
       "      <th>2</th>\n",
       "      <td>TRAADYB128F92D7E73</td>\n",
       "      <td>Jazz</td>\n",
       "      <td>train</td>\n",
       "      <td>-0.870939</td>\n",
       "      <td>-0.871925</td>\n",
       "      <td>-0.486669</td>\n",
       "      <td>0.006040</td>\n",
       "      <td>0.220190</td>\n",
       "      <td>0.576865</td>\n",
       "      <td>0.367615</td>\n",
       "      <td>...</td>\n",
       "      <td>-0.622740</td>\n",
       "      <td>-0.308450</td>\n",
       "      <td>-1.609737</td>\n",
       "      <td>1.391620</td>\n",
       "      <td>-0.828036</td>\n",
       "      <td>0.520239</td>\n",
       "      <td>1.533222</td>\n",
       "      <td>0.074795</td>\n",
       "      <td>1.362022</td>\n",
       "      <td>-0.893388</td>\n",
       "    </tr>\n",
       "    <tr>\n",
       "      <th>3</th>\n",
       "      <td>TRAAEJV128F423CF04</td>\n",
       "      <td>Pop</td>\n",
       "      <td>val</td>\n",
       "      <td>-0.377768</td>\n",
       "      <td>-0.452566</td>\n",
       "      <td>0.560932</td>\n",
       "      <td>-0.132178</td>\n",
       "      <td>-0.392075</td>\n",
       "      <td>0.220614</td>\n",
       "      <td>0.823778</td>\n",
       "      <td>...</td>\n",
       "      <td>-1.028710</td>\n",
       "      <td>-0.340106</td>\n",
       "      <td>-0.554905</td>\n",
       "      <td>0.759968</td>\n",
       "      <td>-1.194390</td>\n",
       "      <td>0.018122</td>\n",
       "      <td>0.639118</td>\n",
       "      <td>-0.751301</td>\n",
       "      <td>0.622499</td>\n",
       "      <td>-0.852462</td>\n",
       "    </tr>\n",
       "    <tr>\n",
       "      <th>4</th>\n",
       "      <td>TRAAERZ128F1496921</td>\n",
       "      <td>Reggae</td>\n",
       "      <td>val</td>\n",
       "      <td>-0.639578</td>\n",
       "      <td>-1.247270</td>\n",
       "      <td>-0.301092</td>\n",
       "      <td>-1.002917</td>\n",
       "      <td>0.780277</td>\n",
       "      <td>1.926255</td>\n",
       "      <td>-0.551522</td>\n",
       "      <td>...</td>\n",
       "      <td>-0.048481</td>\n",
       "      <td>0.647069</td>\n",
       "      <td>-1.882395</td>\n",
       "      <td>1.287668</td>\n",
       "      <td>-0.174276</td>\n",
       "      <td>0.135435</td>\n",
       "      <td>1.690100</td>\n",
       "      <td>-0.262641</td>\n",
       "      <td>1.413104</td>\n",
       "      <td>-0.403483</td>\n",
       "    </tr>\n",
       "  </tbody>\n",
       "</table>\n",
       "<p>5 rows × 103 columns</p>\n",
       "</div>"
      ],
      "text/plain": [
       "         msd_track_id   genre    set         0         1         2         3  \\\n",
       "0  TRAAAHZ128E0799171     Rap  train -2.067585  2.651733  3.320567  0.084567   \n",
       "1  TRAACER128F4290F96   Metal  train -1.510375 -0.630707  0.881289 -0.207258   \n",
       "2  TRAADYB128F92D7E73    Jazz  train -0.870939 -0.871925 -0.486669  0.006040   \n",
       "3  TRAAEJV128F423CF04     Pop    val -0.377768 -0.452566  0.560932 -0.132178   \n",
       "4  TRAAERZ128F1496921  Reggae    val -0.639578 -1.247270 -0.301092 -1.002917   \n",
       "\n",
       "          4         5         6  ...        90        91        92        93  \\\n",
       "0  0.150504 -2.050568  0.975501  ... -3.452422  1.678107  1.147188  3.000128   \n",
       "1  0.062911  0.168616  1.256322  ... -1.468447  0.982858 -1.308412  1.714285   \n",
       "2  0.220190  0.576865  0.367615  ... -0.622740 -0.308450 -1.609737  1.391620   \n",
       "3 -0.392075  0.220614  0.823778  ... -1.028710 -0.340106 -0.554905  0.759968   \n",
       "4  0.780277  1.926255 -0.551522  ... -0.048481  0.647069 -1.882395  1.287668   \n",
       "\n",
       "         94        95        96        97        98        99  \n",
       "0 -2.506208 -1.890682  0.423336 -1.765437  0.097919 -1.165544  \n",
       "1 -1.445258 -0.254049  1.792565 -1.714414  1.096439 -1.839709  \n",
       "2 -0.828036  0.520239  1.533222  0.074795  1.362022 -0.893388  \n",
       "3 -1.194390  0.018122  0.639118 -0.751301  0.622499 -0.852462  \n",
       "4 -0.174276  0.135435  1.690100 -0.262641  1.413104 -0.403483  \n",
       "\n",
       "[5 rows x 103 columns]"
      ]
     },
     "execution_count": 20,
     "metadata": {},
     "output_type": "execute_result"
    }
   ],
   "source": [
    "df_final.head()"
   ]
  },
  {
   "cell_type": "code",
   "execution_count": null,
   "metadata": {},
   "outputs": [],
   "source": []
  },
  {
   "cell_type": "code",
   "execution_count": null,
   "metadata": {},
   "outputs": [],
   "source": []
  }
 ],
 "metadata": {
  "kernelspec": {
   "display_name": "Python 3",
   "language": "python",
   "name": "python3"
  },
  "language_info": {
   "codemirror_mode": {
    "name": "ipython",
    "version": 3
   },
   "file_extension": ".py",
   "mimetype": "text/x-python",
   "name": "python",
   "nbconvert_exporter": "python",
   "pygments_lexer": "ipython3",
   "version": "3.7.3"
  }
 },
 "nbformat": 4,
 "nbformat_minor": 4
}
